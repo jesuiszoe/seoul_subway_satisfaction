{
 "cells": [
  {
   "cell_type": "code",
   "execution_count": 2,
   "id": "2b6bfacc",
   "metadata": {},
   "outputs": [],
   "source": [
    "import pandas as pd"
   ]
  },
  {
   "cell_type": "code",
   "execution_count": 3,
   "id": "9d30e769",
   "metadata": {},
   "outputs": [],
   "source": [
    "free_ride = pd.read_csv('C:/Users/samsung/Desktop/HUFS 3-1/데이터사이언스/서울시 지하철 호선별 역별 유_무임 승하차 인원 정보.csv', sep = ',', header = 0, engine = 'python', encoding='cp949')"
   ]
  },
  {
   "cell_type": "code",
   "execution_count": 4,
   "id": "6c54a17f",
   "metadata": {},
   "outputs": [
    {
     "data": {
      "text/html": [
       "<div>\n",
       "<style scoped>\n",
       "    .dataframe tbody tr th:only-of-type {\n",
       "        vertical-align: middle;\n",
       "    }\n",
       "\n",
       "    .dataframe tbody tr th {\n",
       "        vertical-align: top;\n",
       "    }\n",
       "\n",
       "    .dataframe thead th {\n",
       "        text-align: right;\n",
       "    }\n",
       "</style>\n",
       "<table border=\"1\" class=\"dataframe\">\n",
       "  <thead>\n",
       "    <tr style=\"text-align: right;\">\n",
       "      <th></th>\n",
       "      <th>사용월</th>\n",
       "      <th>호선명</th>\n",
       "      <th>지하철역</th>\n",
       "      <th>유임승차인원</th>\n",
       "      <th>무임승차인원</th>\n",
       "      <th>유임하차인원</th>\n",
       "      <th>무임하차인원</th>\n",
       "      <th>작업일자</th>\n",
       "    </tr>\n",
       "  </thead>\n",
       "  <tbody>\n",
       "    <tr>\n",
       "      <th>0</th>\n",
       "      <td>202204</td>\n",
       "      <td>1호선</td>\n",
       "      <td>종로3가</td>\n",
       "      <td>430565</td>\n",
       "      <td>276081</td>\n",
       "      <td>385851</td>\n",
       "      <td>255697</td>\n",
       "      <td>20220503</td>\n",
       "    </tr>\n",
       "    <tr>\n",
       "      <th>1</th>\n",
       "      <td>202204</td>\n",
       "      <td>1호선</td>\n",
       "      <td>제기동</td>\n",
       "      <td>216803</td>\n",
       "      <td>265388</td>\n",
       "      <td>208213</td>\n",
       "      <td>284255</td>\n",
       "      <td>20220503</td>\n",
       "    </tr>\n",
       "    <tr>\n",
       "      <th>2</th>\n",
       "      <td>202204</td>\n",
       "      <td>1호선</td>\n",
       "      <td>시청</td>\n",
       "      <td>496353</td>\n",
       "      <td>75835</td>\n",
       "      <td>507407</td>\n",
       "      <td>73949</td>\n",
       "      <td>20220503</td>\n",
       "    </tr>\n",
       "    <tr>\n",
       "      <th>3</th>\n",
       "      <td>202204</td>\n",
       "      <td>1호선</td>\n",
       "      <td>청량리(서울시립대입구)</td>\n",
       "      <td>317992</td>\n",
       "      <td>247000</td>\n",
       "      <td>310677</td>\n",
       "      <td>248184</td>\n",
       "      <td>20220503</td>\n",
       "    </tr>\n",
       "    <tr>\n",
       "      <th>4</th>\n",
       "      <td>202204</td>\n",
       "      <td>1호선</td>\n",
       "      <td>동대문</td>\n",
       "      <td>210619</td>\n",
       "      <td>113889</td>\n",
       "      <td>194802</td>\n",
       "      <td>112994</td>\n",
       "      <td>20220503</td>\n",
       "    </tr>\n",
       "  </tbody>\n",
       "</table>\n",
       "</div>"
      ],
      "text/plain": [
       "      사용월  호선명          지하철역  유임승차인원  무임승차인원  유임하차인원  무임하차인원      작업일자\n",
       "0  202204  1호선          종로3가  430565  276081  385851  255697  20220503\n",
       "1  202204  1호선           제기동  216803  265388  208213  284255  20220503\n",
       "2  202204  1호선            시청  496353   75835  507407   73949  20220503\n",
       "3  202204  1호선  청량리(서울시립대입구)  317992  247000  310677  248184  20220503\n",
       "4  202204  1호선           동대문  210619  113889  194802  112994  20220503"
      ]
     },
     "execution_count": 4,
     "metadata": {},
     "output_type": "execute_result"
    }
   ],
   "source": [
    "free_ride.head()"
   ]
  },
  {
   "cell_type": "code",
   "execution_count": 5,
   "id": "3e305998",
   "metadata": {},
   "outputs": [],
   "source": [
    "free_ride1 = free_ride[[\"사용월\", \"지하철역\", \"무임승차인원\", \"무임하차인원\"]]"
   ]
  },
  {
   "cell_type": "code",
   "execution_count": 6,
   "id": "c45372c2",
   "metadata": {},
   "outputs": [
    {
     "data": {
      "text/html": [
       "<div>\n",
       "<style scoped>\n",
       "    .dataframe tbody tr th:only-of-type {\n",
       "        vertical-align: middle;\n",
       "    }\n",
       "\n",
       "    .dataframe tbody tr th {\n",
       "        vertical-align: top;\n",
       "    }\n",
       "\n",
       "    .dataframe thead th {\n",
       "        text-align: right;\n",
       "    }\n",
       "</style>\n",
       "<table border=\"1\" class=\"dataframe\">\n",
       "  <thead>\n",
       "    <tr style=\"text-align: right;\">\n",
       "      <th></th>\n",
       "      <th>사용월</th>\n",
       "      <th>지하철역</th>\n",
       "      <th>무임승차인원</th>\n",
       "      <th>무임하차인원</th>\n",
       "    </tr>\n",
       "  </thead>\n",
       "  <tbody>\n",
       "    <tr>\n",
       "      <th>0</th>\n",
       "      <td>202204</td>\n",
       "      <td>종로3가</td>\n",
       "      <td>276081</td>\n",
       "      <td>255697</td>\n",
       "    </tr>\n",
       "    <tr>\n",
       "      <th>1</th>\n",
       "      <td>202204</td>\n",
       "      <td>제기동</td>\n",
       "      <td>265388</td>\n",
       "      <td>284255</td>\n",
       "    </tr>\n",
       "    <tr>\n",
       "      <th>2</th>\n",
       "      <td>202204</td>\n",
       "      <td>시청</td>\n",
       "      <td>75835</td>\n",
       "      <td>73949</td>\n",
       "    </tr>\n",
       "    <tr>\n",
       "      <th>3</th>\n",
       "      <td>202204</td>\n",
       "      <td>청량리(서울시립대입구)</td>\n",
       "      <td>247000</td>\n",
       "      <td>248184</td>\n",
       "    </tr>\n",
       "    <tr>\n",
       "      <th>4</th>\n",
       "      <td>202204</td>\n",
       "      <td>동대문</td>\n",
       "      <td>113889</td>\n",
       "      <td>112994</td>\n",
       "    </tr>\n",
       "  </tbody>\n",
       "</table>\n",
       "</div>"
      ],
      "text/plain": [
       "      사용월          지하철역  무임승차인원  무임하차인원\n",
       "0  202204          종로3가  276081  255697\n",
       "1  202204           제기동  265388  284255\n",
       "2  202204            시청   75835   73949\n",
       "3  202204  청량리(서울시립대입구)  247000  248184\n",
       "4  202204           동대문  113889  112994"
      ]
     },
     "execution_count": 6,
     "metadata": {},
     "output_type": "execute_result"
    }
   ],
   "source": [
    "free_ride1.head()"
   ]
  },
  {
   "cell_type": "markdown",
   "id": "a19cb7a0",
   "metadata": {},
   "source": [
    "## 구로구"
   ]
  },
  {
   "cell_type": "code",
   "execution_count": 6,
   "id": "be07adac",
   "metadata": {},
   "outputs": [
    {
     "data": {
      "text/html": [
       "<div>\n",
       "<style scoped>\n",
       "    .dataframe tbody tr th:only-of-type {\n",
       "        vertical-align: middle;\n",
       "    }\n",
       "\n",
       "    .dataframe tbody tr th {\n",
       "        vertical-align: top;\n",
       "    }\n",
       "\n",
       "    .dataframe thead th {\n",
       "        text-align: right;\n",
       "    }\n",
       "</style>\n",
       "<table border=\"1\" class=\"dataframe\">\n",
       "  <thead>\n",
       "    <tr style=\"text-align: right;\">\n",
       "      <th></th>\n",
       "      <th>사용월</th>\n",
       "      <th>지하철역</th>\n",
       "      <th>무임승차인원</th>\n",
       "      <th>무임하차인원</th>\n",
       "    </tr>\n",
       "  </thead>\n",
       "  <tbody>\n",
       "    <tr>\n",
       "      <th>2474</th>\n",
       "      <td>202112</td>\n",
       "      <td>도림천</td>\n",
       "      <td>6423</td>\n",
       "      <td>7049</td>\n",
       "    </tr>\n",
       "    <tr>\n",
       "      <th>2490</th>\n",
       "      <td>202112</td>\n",
       "      <td>구로디지털단지</td>\n",
       "      <td>146156</td>\n",
       "      <td>148585</td>\n",
       "    </tr>\n",
       "    <tr>\n",
       "      <th>2491</th>\n",
       "      <td>202112</td>\n",
       "      <td>신도림</td>\n",
       "      <td>162357</td>\n",
       "      <td>153213</td>\n",
       "    </tr>\n",
       "    <tr>\n",
       "      <th>2666</th>\n",
       "      <td>202112</td>\n",
       "      <td>남구로</td>\n",
       "      <td>52625</td>\n",
       "      <td>52709</td>\n",
       "    </tr>\n",
       "    <tr>\n",
       "      <th>2676</th>\n",
       "      <td>202112</td>\n",
       "      <td>천왕</td>\n",
       "      <td>47698</td>\n",
       "      <td>47075</td>\n",
       "    </tr>\n",
       "  </tbody>\n",
       "</table>\n",
       "</div>"
      ],
      "text/plain": [
       "         사용월     지하철역  무임승차인원  무임하차인원\n",
       "2474  202112      도림천    6423    7049\n",
       "2490  202112  구로디지털단지  146156  148585\n",
       "2491  202112      신도림  162357  153213\n",
       "2666  202112      남구로   52625   52709\n",
       "2676  202112       천왕   47698   47075"
      ]
     },
     "execution_count": 6,
     "metadata": {},
     "output_type": "execute_result"
    }
   ],
   "source": [
    "guro_free_ride2 = free_ride1[(free_ride1['지하철역'] == '신도림')|(free_ride1['지하철역'] =='구로')|(free_ride1['지하철역'] =='개봉')|(free_ride1['지하철역'] =='대림')|(free_ride1['지하철역'] =='구로디지털단지')|(free_ride1['지하철역'] =='온수')|(free_ride1['지하철역'] =='오류동')|(free_ride1['지하철역'] =='남구로')|(free_ride1['지하철역'] =='천왕')|(free_ride1['지하철역'] =='구일')|(free_ride1['지하철역'] == '도림천')]\n",
    "guro_free_ride_2021 = guro_free_ride2[(guro_free_ride2['사용월'] == 202101)|(guro_free_ride2['사용월'] == 202102)|(guro_free_ride2['사용월'] == 202103)|(guro_free_ride2['사용월'] == 202104)|(guro_free_ride2['사용월'] == 202105)|(guro_free_ride2['사용월'] == 202106)|(guro_free_ride2['사용월'] == 202107)|(guro_free_ride2['사용월'] == 202108)|(guro_free_ride2['사용월'] == 202109)|(guro_free_ride2['사용월'] == 202110)|(guro_free_ride2['사용월'] == 202111)|(guro_free_ride2['사용월'] == 202112)]\n",
    "guro_free_ride_2021.head()"
   ]
  },
  {
   "cell_type": "code",
   "execution_count": 7,
   "id": "a396b642",
   "metadata": {},
   "outputs": [
    {
     "name": "stdout",
     "output_type": "stream",
     "text": [
      "73482\n",
      "73189\n"
     ]
    }
   ],
   "source": [
    "free_ride_guro_2021 = guro_free_ride_2021['무임승차인원'].mean()\n",
    "print(round(free_ride_guro_2021))\n",
    "free_off_guro_2021 = guro_free_ride_2021['무임하차인원'].mean()\n",
    "print(round(free_off_guro_2021))"
   ]
  },
  {
   "cell_type": "markdown",
   "id": "e80c0ec8",
   "metadata": {},
   "source": [
    "## 강남구"
   ]
  },
  {
   "cell_type": "code",
   "execution_count": 8,
   "id": "bbbaa58a",
   "metadata": {},
   "outputs": [
    {
     "data": {
      "text/html": [
       "<div>\n",
       "<style scoped>\n",
       "    .dataframe tbody tr th:only-of-type {\n",
       "        vertical-align: middle;\n",
       "    }\n",
       "\n",
       "    .dataframe tbody tr th {\n",
       "        vertical-align: top;\n",
       "    }\n",
       "\n",
       "    .dataframe thead th {\n",
       "        text-align: right;\n",
       "    }\n",
       "</style>\n",
       "<table border=\"1\" class=\"dataframe\">\n",
       "  <thead>\n",
       "    <tr style=\"text-align: right;\">\n",
       "      <th></th>\n",
       "      <th>사용월</th>\n",
       "      <th>지하철역</th>\n",
       "      <th>무임승차인원</th>\n",
       "      <th>무임하차인원</th>\n",
       "    </tr>\n",
       "  </thead>\n",
       "  <tbody>\n",
       "    <tr>\n",
       "      <th>2473</th>\n",
       "      <td>202112</td>\n",
       "      <td>강남</td>\n",
       "      <td>153264</td>\n",
       "      <td>137102</td>\n",
       "    </tr>\n",
       "    <tr>\n",
       "      <th>2484</th>\n",
       "      <td>202112</td>\n",
       "      <td>역삼</td>\n",
       "      <td>133013</td>\n",
       "      <td>133875</td>\n",
       "    </tr>\n",
       "    <tr>\n",
       "      <th>2487</th>\n",
       "      <td>202112</td>\n",
       "      <td>선릉</td>\n",
       "      <td>187935</td>\n",
       "      <td>165934</td>\n",
       "    </tr>\n",
       "    <tr>\n",
       "      <th>2495</th>\n",
       "      <td>202112</td>\n",
       "      <td>대청</td>\n",
       "      <td>50414</td>\n",
       "      <td>48651</td>\n",
       "    </tr>\n",
       "    <tr>\n",
       "      <th>2498</th>\n",
       "      <td>202112</td>\n",
       "      <td>학여울</td>\n",
       "      <td>12063</td>\n",
       "      <td>11948</td>\n",
       "    </tr>\n",
       "  </tbody>\n",
       "</table>\n",
       "</div>"
      ],
      "text/plain": [
       "         사용월 지하철역  무임승차인원  무임하차인원\n",
       "2473  202112   강남  153264  137102\n",
       "2484  202112   역삼  133013  133875\n",
       "2487  202112   선릉  187935  165934\n",
       "2495  202112   대청   50414   48651\n",
       "2498  202112  학여울   12063   11948"
      ]
     },
     "execution_count": 8,
     "metadata": {},
     "output_type": "execute_result"
    }
   ],
   "source": [
    "free_ride2 = free_ride1[(free_ride1['지하철역'] == '삼성')|(free_ride1['지하철역'] =='선릉')|(free_ride1['지하철역'] =='역삼')|(free_ride1['지하철역'] =='강남')|(free_ride1['지하철역'] =='압구정')|(free_ride1['지하철역'] =='신사')|(free_ride1['지하철역'] =='매봉')|(free_ride1['지하철역'] =='도곡')|(free_ride1['지하철역'] =='대치')|(free_ride1['지하철역'] =='학여울')|(free_ride1['지하철역'] == '대청')|(free_ride1['지하철역'] == '일원')|(free_ride1['지하철역'] == '수서')|(free_ride1['지하철역'] == '압구정로데오')|(free_ride1['지하철역'] == '강남구청')|(free_ride1['지하철역'] == '선전릉')|(free_ride1['지하철역'] == '한티')|(free_ride1['지하철역'] == '구룡')|(free_ride1['지하철역'] == '개포동')|(free_ride1['지하철역'] == '대모산입구')|(free_ride1['지하철역'] == '봉은사')|(free_ride1['지하철역'] == '삼성중앙')|(free_ride1['지하철역'] == '언주')|(free_ride1['지하철역'] == '신논현')|(free_ride1['지하철역'] == '청담')|(free_ride1['지하철역'] == '학동')|(free_ride1['지하철역'] == '논현')]\n",
    "gang_free_ride_2021 = free_ride2[(free_ride2['사용월'] == 202101)|(free_ride2['사용월'] == 202102)|(free_ride2['사용월'] == 202103)|(free_ride2['사용월'] == 202104)|(free_ride2['사용월'] == 202105)|(free_ride2['사용월'] == 202106)|(free_ride2['사용월'] == 202107)|(free_ride2['사용월'] == 202108)|(free_ride2['사용월'] == 202109)|(free_ride2['사용월'] == 202110)|(free_ride2['사용월'] == 202111)|(free_ride2['사용월'] == 202112)]\n",
    "gang_free_ride_2021.head()"
   ]
  },
  {
   "cell_type": "code",
   "execution_count": 9,
   "id": "1d321a97",
   "metadata": {},
   "outputs": [
    {
     "name": "stdout",
     "output_type": "stream",
     "text": [
      "53020\n",
      "51275\n"
     ]
    }
   ],
   "source": [
    "free_ride_gang_2021 = gang_free_ride_2021['무임승차인원'].mean()\n",
    "print(round(free_ride_gang_2021))\n",
    "free_off_gang_2021 = gang_free_ride_2021['무임하차인원'].mean()\n",
    "print(round(free_off_gang_2021))"
   ]
  },
  {
   "cell_type": "markdown",
   "id": "dd82f89b",
   "metadata": {},
   "source": [
    "## 강북구"
   ]
  },
  {
   "cell_type": "code",
   "execution_count": 10,
   "id": "23f54f6d",
   "metadata": {},
   "outputs": [
    {
     "data": {
      "text/html": [
       "<div>\n",
       "<style scoped>\n",
       "    .dataframe tbody tr th:only-of-type {\n",
       "        vertical-align: middle;\n",
       "    }\n",
       "\n",
       "    .dataframe tbody tr th {\n",
       "        vertical-align: top;\n",
       "    }\n",
       "\n",
       "    .dataframe thead th {\n",
       "        text-align: right;\n",
       "    }\n",
       "</style>\n",
       "<table border=\"1\" class=\"dataframe\">\n",
       "  <thead>\n",
       "    <tr style=\"text-align: right;\">\n",
       "      <th></th>\n",
       "      <th>사용월</th>\n",
       "      <th>지하철역</th>\n",
       "      <th>무임승차인원</th>\n",
       "      <th>무임하차인원</th>\n",
       "    </tr>\n",
       "  </thead>\n",
       "  <tbody>\n",
       "    <tr>\n",
       "      <th>2545</th>\n",
       "      <td>202112</td>\n",
       "      <td>수유(강북구청)</td>\n",
       "      <td>165420</td>\n",
       "      <td>166307</td>\n",
       "    </tr>\n",
       "    <tr>\n",
       "      <th>2552</th>\n",
       "      <td>202112</td>\n",
       "      <td>미아사거리</td>\n",
       "      <td>152744</td>\n",
       "      <td>152209</td>\n",
       "    </tr>\n",
       "    <tr>\n",
       "      <th>2993</th>\n",
       "      <td>202112</td>\n",
       "      <td>솔밭공원</td>\n",
       "      <td>24514</td>\n",
       "      <td>25707</td>\n",
       "    </tr>\n",
       "    <tr>\n",
       "      <th>2994</th>\n",
       "      <td>202112</td>\n",
       "      <td>화계</td>\n",
       "      <td>35650</td>\n",
       "      <td>35975</td>\n",
       "    </tr>\n",
       "    <tr>\n",
       "      <th>2995</th>\n",
       "      <td>202112</td>\n",
       "      <td>삼양사거리</td>\n",
       "      <td>31241</td>\n",
       "      <td>31556</td>\n",
       "    </tr>\n",
       "  </tbody>\n",
       "</table>\n",
       "</div>"
      ],
      "text/plain": [
       "         사용월      지하철역  무임승차인원  무임하차인원\n",
       "2545  202112  수유(강북구청)  165420  166307\n",
       "2552  202112     미아사거리  152744  152209\n",
       "2993  202112      솔밭공원   24514   25707\n",
       "2994  202112        화계   35650   35975\n",
       "2995  202112     삼양사거리   31241   31556"
      ]
     },
     "execution_count": 10,
     "metadata": {},
     "output_type": "execute_result"
    }
   ],
   "source": [
    "free_ride2 = free_ride1[(free_ride1['지하철역'] == '미아')|(free_ride1['지하철역'] =='수유(강북구청)')|(free_ride1['지하철역'] =='미아사거리')|(free_ride1['지하철역'] =='북한산우이')|(free_ride1['지하철역'] =='4.19민주묘지')|(free_ride1['지하철역'] =='솔샘')|(free_ride1['지하철역'] =='가오리')|(free_ride1['지하철역'] =='화계')|(free_ride1['지하철역'] =='솔밭공원')|(free_ride1['지하철역'] =='삼양')|(free_ride1['지하철역'] == '삼양사거리')]\n",
    "buk_free_ride_2021 = free_ride2[(free_ride2['사용월'] == 202101)|(free_ride2['사용월'] == 202102)|(free_ride2['사용월'] == 202103)|(free_ride2['사용월'] == 202104)|(free_ride2['사용월'] == 202105)|(free_ride2['사용월'] == 202106)|(free_ride2['사용월'] == 202107)|(free_ride2['사용월'] == 202108)|(free_ride2['사용월'] == 202109)|(free_ride2['사용월'] == 202110)|(free_ride2['사용월'] == 202111)|(free_ride2['사용월'] == 202112)]\n",
    "buk_free_ride_2021.head()"
   ]
  },
  {
   "cell_type": "code",
   "execution_count": 11,
   "id": "4af48c70",
   "metadata": {},
   "outputs": [
    {
     "name": "stdout",
     "output_type": "stream",
     "text": [
      "54924\n",
      "55224\n"
     ]
    }
   ],
   "source": [
    "free_ride_buk_2021 = buk_free_ride_2021['무임승차인원'].mean()\n",
    "print(round(free_ride_buk_2021))\n",
    "free_off_buk_2021 = buk_free_ride_2021['무임하차인원'].mean()\n",
    "print(round(free_off_buk_2021))"
   ]
  },
  {
   "cell_type": "markdown",
   "id": "b59a8199",
   "metadata": {},
   "source": [
    "## 동대문구"
   ]
  },
  {
   "cell_type": "code",
   "execution_count": 12,
   "id": "f130a75a",
   "metadata": {},
   "outputs": [
    {
     "data": {
      "text/html": [
       "<div>\n",
       "<style scoped>\n",
       "    .dataframe tbody tr th:only-of-type {\n",
       "        vertical-align: middle;\n",
       "    }\n",
       "\n",
       "    .dataframe tbody tr th {\n",
       "        vertical-align: top;\n",
       "    }\n",
       "\n",
       "    .dataframe thead th {\n",
       "        text-align: right;\n",
       "    }\n",
       "</style>\n",
       "<table border=\"1\" class=\"dataframe\">\n",
       "  <thead>\n",
       "    <tr style=\"text-align: right;\">\n",
       "      <th></th>\n",
       "      <th>사용월</th>\n",
       "      <th>지하철역</th>\n",
       "      <th>무임승차인원</th>\n",
       "      <th>무임하차인원</th>\n",
       "    </tr>\n",
       "  </thead>\n",
       "  <tbody>\n",
       "    <tr>\n",
       "      <th>2436</th>\n",
       "      <td>202112</td>\n",
       "      <td>제기동</td>\n",
       "      <td>226280</td>\n",
       "      <td>241771</td>\n",
       "    </tr>\n",
       "    <tr>\n",
       "      <th>2441</th>\n",
       "      <td>202112</td>\n",
       "      <td>신설동</td>\n",
       "      <td>101018</td>\n",
       "      <td>97747</td>\n",
       "    </tr>\n",
       "    <tr>\n",
       "      <th>2467</th>\n",
       "      <td>202112</td>\n",
       "      <td>신설동</td>\n",
       "      <td>27957</td>\n",
       "      <td>29919</td>\n",
       "    </tr>\n",
       "    <tr>\n",
       "      <th>2561</th>\n",
       "      <td>202112</td>\n",
       "      <td>답십리</td>\n",
       "      <td>68212</td>\n",
       "      <td>66676</td>\n",
       "    </tr>\n",
       "    <tr>\n",
       "      <th>2568</th>\n",
       "      <td>202112</td>\n",
       "      <td>장한평</td>\n",
       "      <td>77396</td>\n",
       "      <td>78790</td>\n",
       "    </tr>\n",
       "  </tbody>\n",
       "</table>\n",
       "</div>"
      ],
      "text/plain": [
       "         사용월 지하철역  무임승차인원  무임하차인원\n",
       "2436  202112  제기동  226280  241771\n",
       "2441  202112  신설동  101018   97747\n",
       "2467  202112  신설동   27957   29919\n",
       "2561  202112  답십리   68212   66676\n",
       "2568  202112  장한평   77396   78790"
      ]
     },
     "execution_count": 12,
     "metadata": {},
     "output_type": "execute_result"
    }
   ],
   "source": [
    "free_ride2 = free_ride1[(free_ride1['지하철역'] == '청량리')|(free_ride1['지하철역'] =='회기')|(free_ride1['지하철역'] =='장한평')|(free_ride1['지하철역'] =='신이문')|(free_ride1['지하철역'] =='제기동')|(free_ride1['지하철역'] =='신설동')|(free_ride1['지하철역'] =='용두')|(free_ride1['지하철역'] =='외대앞')|(free_ride1['지하철역'] =='고려대')|(free_ride1['지하철역'] =='답십리')]\n",
    "dong_free_ride_2021 = free_ride2[(free_ride2['사용월'] == 202101)|(free_ride2['사용월'] == 202102)|(free_ride2['사용월'] == 202103)|(free_ride2['사용월'] == 202104)|(free_ride2['사용월'] == 202105)|(free_ride2['사용월'] == 202106)|(free_ride2['사용월'] == 202107)|(free_ride2['사용월'] == 202108)|(free_ride2['사용월'] == 202109)|(free_ride2['사용월'] == 202110)|(free_ride2['사용월'] == 202111)|(free_ride2['사용월'] == 202112)]\n",
    "dong_free_ride_2021.head()"
   ]
  },
  {
   "cell_type": "code",
   "execution_count": 13,
   "id": "242bc32a",
   "metadata": {},
   "outputs": [
    {
     "name": "stdout",
     "output_type": "stream",
     "text": [
      "79376\n",
      "80213\n"
     ]
    }
   ],
   "source": [
    "free_ride_dong_2021 = dong_free_ride_2021['무임승차인원'].mean()\n",
    "print(round(free_ride_dong_2021))\n",
    "free_ride_dong_2021 = dong_free_ride_2021['무임하차인원'].mean()\n",
    "print(round(free_ride_dong_2021))"
   ]
  },
  {
   "cell_type": "markdown",
   "id": "cb97509e",
   "metadata": {},
   "source": [
    "## 도봉구"
   ]
  },
  {
   "cell_type": "code",
   "execution_count": 14,
   "id": "687b51a5",
   "metadata": {},
   "outputs": [
    {
     "data": {
      "text/html": [
       "<div>\n",
       "<style scoped>\n",
       "    .dataframe tbody tr th:only-of-type {\n",
       "        vertical-align: middle;\n",
       "    }\n",
       "\n",
       "    .dataframe tbody tr th {\n",
       "        vertical-align: top;\n",
       "    }\n",
       "\n",
       "    .dataframe thead th {\n",
       "        text-align: right;\n",
       "    }\n",
       "</style>\n",
       "<table border=\"1\" class=\"dataframe\">\n",
       "  <thead>\n",
       "    <tr style=\"text-align: right;\">\n",
       "      <th></th>\n",
       "      <th>사용월</th>\n",
       "      <th>지하철역</th>\n",
       "      <th>무임승차인원</th>\n",
       "      <th>무임하차인원</th>\n",
       "    </tr>\n",
       "  </thead>\n",
       "  <tbody>\n",
       "    <tr>\n",
       "      <th>2535</th>\n",
       "      <td>202112</td>\n",
       "      <td>창동</td>\n",
       "      <td>161414</td>\n",
       "      <td>167430</td>\n",
       "    </tr>\n",
       "    <tr>\n",
       "      <th>2542</th>\n",
       "      <td>202112</td>\n",
       "      <td>쌍문</td>\n",
       "      <td>136571</td>\n",
       "      <td>135066</td>\n",
       "    </tr>\n",
       "    <tr>\n",
       "      <th>2698</th>\n",
       "      <td>202112</td>\n",
       "      <td>도봉산</td>\n",
       "      <td>40213</td>\n",
       "      <td>56282</td>\n",
       "    </tr>\n",
       "    <tr>\n",
       "      <th>2809</th>\n",
       "      <td>202112</td>\n",
       "      <td>창동</td>\n",
       "      <td>1</td>\n",
       "      <td>0</td>\n",
       "    </tr>\n",
       "    <tr>\n",
       "      <th>2814</th>\n",
       "      <td>202112</td>\n",
       "      <td>방학</td>\n",
       "      <td>90307</td>\n",
       "      <td>89545</td>\n",
       "    </tr>\n",
       "  </tbody>\n",
       "</table>\n",
       "</div>"
      ],
      "text/plain": [
       "         사용월 지하철역  무임승차인원  무임하차인원\n",
       "2535  202112   창동  161414  167430\n",
       "2542  202112   쌍문  136571  135066\n",
       "2698  202112  도봉산   40213   56282\n",
       "2809  202112   창동       1       0\n",
       "2814  202112   방학   90307   89545"
      ]
     },
     "execution_count": 14,
     "metadata": {},
     "output_type": "execute_result"
    }
   ],
   "source": [
    "free_ride2 = free_ride1[(free_ride1['지하철역'] == '창동')|(free_ride1['지하철역'] =='방학')|(free_ride1['지하철역'] =='도봉')|(free_ride1['지하철역'] =='도봉산')|(free_ride1['지하철역'] =='쌍문')|(free_ride1['지하철역'] =='녹천')|(free_ride1['지하철역'] =='솔밭공원')]\n",
    "dobong_free_ride_2021 = free_ride2[(free_ride2['사용월'] == 202101)|(free_ride2['사용월'] == 202102)|(free_ride2['사용월'] == 202103)|(free_ride2['사용월'] == 202104)|(free_ride2['사용월'] == 202105)|(free_ride2['사용월'] == 202106)|(free_ride2['사용월'] == 202107)|(free_ride2['사용월'] == 202108)|(free_ride2['사용월'] == 202109)|(free_ride2['사용월'] == 202110)|(free_ride2['사용월'] == 202111)|(free_ride2['사용월'] == 202112)]\n",
    "dobong_free_ride_2021.head()"
   ]
  },
  {
   "cell_type": "code",
   "execution_count": 16,
   "id": "9233a54a",
   "metadata": {},
   "outputs": [
    {
     "name": "stdout",
     "output_type": "stream",
     "text": [
      "70356\n",
      "70263\n"
     ]
    }
   ],
   "source": [
    "free_ride_dobong_2021 = dobong_free_ride_2021['무임승차인원'].mean()\n",
    "print(round(free_ride_dobong_2021))\n",
    "free_ride_dobong_2021 = dobong_free_ride_2021['무임하차인원'].mean()\n",
    "print(round(free_ride_dobong_2021))"
   ]
  },
  {
   "cell_type": "markdown",
   "id": "c94100a8",
   "metadata": {},
   "source": [
    "## 노원구"
   ]
  },
  {
   "cell_type": "code",
   "execution_count": 17,
   "id": "da9db4c8",
   "metadata": {},
   "outputs": [
    {
     "data": {
      "text/html": [
       "<div>\n",
       "<style scoped>\n",
       "    .dataframe tbody tr th:only-of-type {\n",
       "        vertical-align: middle;\n",
       "    }\n",
       "\n",
       "    .dataframe tbody tr th {\n",
       "        vertical-align: top;\n",
       "    }\n",
       "\n",
       "    .dataframe thead th {\n",
       "        text-align: right;\n",
       "    }\n",
       "</style>\n",
       "<table border=\"1\" class=\"dataframe\">\n",
       "  <thead>\n",
       "    <tr style=\"text-align: right;\">\n",
       "      <th></th>\n",
       "      <th>사용월</th>\n",
       "      <th>지하철역</th>\n",
       "      <th>무임승차인원</th>\n",
       "      <th>무임하차인원</th>\n",
       "    </tr>\n",
       "  </thead>\n",
       "  <tbody>\n",
       "    <tr>\n",
       "      <th>2536</th>\n",
       "      <td>202112</td>\n",
       "      <td>노원</td>\n",
       "      <td>75700</td>\n",
       "      <td>75467</td>\n",
       "    </tr>\n",
       "    <tr>\n",
       "      <th>2546</th>\n",
       "      <td>202112</td>\n",
       "      <td>당고개</td>\n",
       "      <td>75008</td>\n",
       "      <td>73874</td>\n",
       "    </tr>\n",
       "    <tr>\n",
       "      <th>2554</th>\n",
       "      <td>202112</td>\n",
       "      <td>상계</td>\n",
       "      <td>100132</td>\n",
       "      <td>98932</td>\n",
       "    </tr>\n",
       "    <tr>\n",
       "      <th>2615</th>\n",
       "      <td>202112</td>\n",
       "      <td>태릉입구</td>\n",
       "      <td>25561</td>\n",
       "      <td>26465</td>\n",
       "    </tr>\n",
       "    <tr>\n",
       "      <th>2655</th>\n",
       "      <td>202112</td>\n",
       "      <td>마들</td>\n",
       "      <td>72547</td>\n",
       "      <td>72409</td>\n",
       "    </tr>\n",
       "  </tbody>\n",
       "</table>\n",
       "</div>"
      ],
      "text/plain": [
       "         사용월  지하철역  무임승차인원  무임하차인원\n",
       "2536  202112    노원   75700   75467\n",
       "2546  202112   당고개   75008   73874\n",
       "2554  202112    상계  100132   98932\n",
       "2615  202112  태릉입구   25561   26465\n",
       "2655  202112    마들   72547   72409"
      ]
     },
     "execution_count": 17,
     "metadata": {},
     "output_type": "execute_result"
    }
   ],
   "source": [
    "free_ride2 = free_ride1[(free_ride1['지하철역'] == '광운대')|(free_ride1['지하철역'] =='태릉입구')|(free_ride1['지하철역'] =='공릉')|(free_ride1['지하철역'] =='월계')|(free_ride1['지하철역'] =='노원')|(free_ride1['지하철역'] =='상계')|(free_ride1['지하철역'] =='수락산')|(free_ride1['지하철역'] =='당고개')|(free_ride1['지하철역'] =='화랑대')|(free_ride1['지하철역'] =='하계')|(free_ride1['지하철역'] =='중계')|(free_ride1['지하철역'] =='마들')]\n",
    "nowon_free_ride_2021 = free_ride2[(free_ride2['사용월'] == 202101)|(free_ride2['사용월'] == 202102)|(free_ride2['사용월'] == 202103)|(free_ride2['사용월'] == 202104)|(free_ride2['사용월'] == 202105)|(free_ride2['사용월'] == 202106)|(free_ride2['사용월'] == 202107)|(free_ride2['사용월'] == 202108)|(free_ride2['사용월'] == 202109)|(free_ride2['사용월'] == 202110)|(free_ride2['사용월'] == 202111)|(free_ride2['사용월'] == 202112)]\n",
    "nowon_free_ride_2021.head()"
   ]
  },
  {
   "cell_type": "code",
   "execution_count": 18,
   "id": "cced780b",
   "metadata": {},
   "outputs": [
    {
     "name": "stdout",
     "output_type": "stream",
     "text": [
      "67102\n",
      "66122\n"
     ]
    }
   ],
   "source": [
    "free_ride_nowon_2021 = nowon_free_ride_2021['무임승차인원'].mean()\n",
    "print(round(free_ride_nowon_2021))\n",
    "free_ride_nowon_2021 = nowon_free_ride_2021['무임하차인원'].mean()\n",
    "print(round(free_ride_nowon_2021))"
   ]
  },
  {
   "cell_type": "markdown",
   "id": "d10949ca",
   "metadata": {},
   "source": [
    "## 성북구"
   ]
  },
  {
   "cell_type": "code",
   "execution_count": 19,
   "id": "f8d656ae",
   "metadata": {},
   "outputs": [
    {
     "data": {
      "text/html": [
       "<div>\n",
       "<style scoped>\n",
       "    .dataframe tbody tr th:only-of-type {\n",
       "        vertical-align: middle;\n",
       "    }\n",
       "\n",
       "    .dataframe tbody tr th {\n",
       "        vertical-align: top;\n",
       "    }\n",
       "\n",
       "    .dataframe thead th {\n",
       "        text-align: right;\n",
       "    }\n",
       "</style>\n",
       "<table border=\"1\" class=\"dataframe\">\n",
       "  <thead>\n",
       "    <tr style=\"text-align: right;\">\n",
       "      <th></th>\n",
       "      <th>사용월</th>\n",
       "      <th>지하철역</th>\n",
       "      <th>무임승차인원</th>\n",
       "      <th>무임하차인원</th>\n",
       "    </tr>\n",
       "  </thead>\n",
       "  <tbody>\n",
       "    <tr>\n",
       "      <th>2541</th>\n",
       "      <td>202112</td>\n",
       "      <td>길음</td>\n",
       "      <td>95193</td>\n",
       "      <td>95820</td>\n",
       "    </tr>\n",
       "    <tr>\n",
       "      <th>2613</th>\n",
       "      <td>202112</td>\n",
       "      <td>보문</td>\n",
       "      <td>26092</td>\n",
       "      <td>24645</td>\n",
       "    </tr>\n",
       "    <tr>\n",
       "      <th>2620</th>\n",
       "      <td>202112</td>\n",
       "      <td>돌곶이</td>\n",
       "      <td>49586</td>\n",
       "      <td>49242</td>\n",
       "    </tr>\n",
       "    <tr>\n",
       "      <th>2992</th>\n",
       "      <td>202112</td>\n",
       "      <td>정릉</td>\n",
       "      <td>39037</td>\n",
       "      <td>37053</td>\n",
       "    </tr>\n",
       "    <tr>\n",
       "      <th>3000</th>\n",
       "      <td>202112</td>\n",
       "      <td>북한산보국문</td>\n",
       "      <td>37419</td>\n",
       "      <td>38055</td>\n",
       "    </tr>\n",
       "  </tbody>\n",
       "</table>\n",
       "</div>"
      ],
      "text/plain": [
       "         사용월    지하철역  무임승차인원  무임하차인원\n",
       "2541  202112      길음   95193   95820\n",
       "2613  202112      보문   26092   24645\n",
       "2620  202112     돌곶이   49586   49242\n",
       "2992  202112      정릉   39037   37053\n",
       "3000  202112  북한산보국문   37419   38055"
      ]
     },
     "execution_count": 19,
     "metadata": {},
     "output_type": "execute_result"
    }
   ],
   "source": [
    "free_ride2 = free_ride1[(free_ride1['지하철역'] == '성신여대입구')|(free_ride1['지하철역'] =='한성대입구')|(free_ride1['지하철역'] =='고려대')|(free_ride1['지하철역'] =='월곡')|(free_ride1['지하철역'] =='안암')|(free_ride1['지하철역'] =='길음')|(free_ride1['지하철역'] =='돌곶이')|(free_ride1['지하철역'] =='보문')|(free_ride1['지하철역'] =='상월곡')|(free_ride1['지하철역'] =='북한산보국문')|(free_ride1['지하철역'] =='정릉')]\n",
    "seongbuk_free_ride_2021 = free_ride2[(free_ride2['사용월'] == 202101)|(free_ride2['사용월'] == 202102)|(free_ride2['사용월'] == 202103)|(free_ride2['사용월'] == 202104)|(free_ride2['사용월'] == 202105)|(free_ride2['사용월'] == 202106)|(free_ride2['사용월'] == 202107)|(free_ride2['사용월'] == 202108)|(free_ride2['사용월'] == 202109)|(free_ride2['사용월'] == 202110)|(free_ride2['사용월'] == 202111)|(free_ride2['사용월'] == 202112)]\n",
    "seongbuk_free_ride_2021.head()"
   ]
  },
  {
   "cell_type": "code",
   "execution_count": 20,
   "id": "2bc8d0e7",
   "metadata": {},
   "outputs": [
    {
     "name": "stdout",
     "output_type": "stream",
     "text": [
      "41328\n",
      "40818\n"
     ]
    }
   ],
   "source": [
    "free_ride_seongbuk_2021 = seongbuk_free_ride_2021['무임승차인원'].mean()\n",
    "print(round(free_ride_seongbuk_2021))\n",
    "free_ride_seongbuk_2021 = seongbuk_free_ride_2021['무임하차인원'].mean()\n",
    "print(round(free_ride_seongbuk_2021))"
   ]
  },
  {
   "cell_type": "markdown",
   "id": "65bc899d",
   "metadata": {},
   "source": [
    "## 중랑구"
   ]
  },
  {
   "cell_type": "code",
   "execution_count": 21,
   "id": "73d4ee55",
   "metadata": {},
   "outputs": [
    {
     "data": {
      "text/html": [
       "<div>\n",
       "<style scoped>\n",
       "    .dataframe tbody tr th:only-of-type {\n",
       "        vertical-align: middle;\n",
       "    }\n",
       "\n",
       "    .dataframe tbody tr th {\n",
       "        vertical-align: top;\n",
       "    }\n",
       "\n",
       "    .dataframe thead th {\n",
       "        text-align: right;\n",
       "    }\n",
       "</style>\n",
       "<table border=\"1\" class=\"dataframe\">\n",
       "  <thead>\n",
       "    <tr style=\"text-align: right;\">\n",
       "      <th></th>\n",
       "      <th>사용월</th>\n",
       "      <th>지하철역</th>\n",
       "      <th>무임승차인원</th>\n",
       "      <th>무임하차인원</th>\n",
       "    </tr>\n",
       "  </thead>\n",
       "  <tbody>\n",
       "    <tr>\n",
       "      <th>2612</th>\n",
       "      <td>202112</td>\n",
       "      <td>신내</td>\n",
       "      <td>1</td>\n",
       "      <td>0</td>\n",
       "    </tr>\n",
       "    <tr>\n",
       "      <th>2643</th>\n",
       "      <td>202112</td>\n",
       "      <td>봉화산(서울의료원)</td>\n",
       "      <td>41030</td>\n",
       "      <td>40803</td>\n",
       "    </tr>\n",
       "    <tr>\n",
       "      <th>2670</th>\n",
       "      <td>202112</td>\n",
       "      <td>중화</td>\n",
       "      <td>55825</td>\n",
       "      <td>56451</td>\n",
       "    </tr>\n",
       "    <tr>\n",
       "      <th>2678</th>\n",
       "      <td>202112</td>\n",
       "      <td>먹골</td>\n",
       "      <td>55010</td>\n",
       "      <td>55990</td>\n",
       "    </tr>\n",
       "    <tr>\n",
       "      <th>2693</th>\n",
       "      <td>202112</td>\n",
       "      <td>사가정</td>\n",
       "      <td>85407</td>\n",
       "      <td>85930</td>\n",
       "    </tr>\n",
       "  </tbody>\n",
       "</table>\n",
       "</div>"
      ],
      "text/plain": [
       "         사용월        지하철역  무임승차인원  무임하차인원\n",
       "2612  202112          신내       1       0\n",
       "2643  202112  봉화산(서울의료원)   41030   40803\n",
       "2670  202112          중화   55825   56451\n",
       "2678  202112          먹골   55010   55990\n",
       "2693  202112         사가정   85407   85930"
      ]
     },
     "execution_count": 21,
     "metadata": {},
     "output_type": "execute_result"
    }
   ],
   "source": [
    "free_ride2 = free_ride1[(free_ride1['지하철역'] == '중랑')|(free_ride1['지하철역'] =='상봉')|(free_ride1['지하철역'] =='망우')|(free_ride1['지하철역'] =='신내')|(free_ride1['지하철역'] =='사가정')|(free_ride1['지하철역'] =='면목')|(free_ride1['지하철역'] =='먹골')|(free_ride1['지하철역'] =='중화')|(free_ride1['지하철역'] =='양원')|(free_ride1['지하철역'] =='봉화산(서울의료원)')|(free_ride1['지하철역'] =='용마산')]\n",
    "jungrang_free_ride_2021 = free_ride2[(free_ride2['사용월'] == 202101)|(free_ride2['사용월'] == 202102)|(free_ride2['사용월'] == 202103)|(free_ride2['사용월'] == 202104)|(free_ride2['사용월'] == 202105)|(free_ride2['사용월'] == 202106)|(free_ride2['사용월'] == 202107)|(free_ride2['사용월'] == 202108)|(free_ride2['사용월'] == 202109)|(free_ride2['사용월'] == 202110)|(free_ride2['사용월'] == 202111)|(free_ride2['사용월'] == 202112)]\n",
    "jungrang_free_ride_2021.head()"
   ]
  },
  {
   "cell_type": "code",
   "execution_count": 22,
   "id": "1aad31d4",
   "metadata": {},
   "outputs": [
    {
     "name": "stdout",
     "output_type": "stream",
     "text": [
      "43624\n",
      "43874\n"
     ]
    }
   ],
   "source": [
    "free_ride_jungrang_2021 = jungrang_free_ride_2021['무임승차인원'].mean()\n",
    "print(round(free_ride_jungrang_2021))\n",
    "free_ride_jungrang_2021 = jungrang_free_ride_2021['무임하차인원'].mean()\n",
    "print(round(free_ride_jungrang_2021))"
   ]
  },
  {
   "cell_type": "markdown",
   "id": "1bd7d2d1",
   "metadata": {},
   "source": [
    "## 은평구"
   ]
  },
  {
   "cell_type": "code",
   "execution_count": 23,
   "id": "7d6dedcd",
   "metadata": {},
   "outputs": [
    {
     "data": {
      "text/html": [
       "<div>\n",
       "<style scoped>\n",
       "    .dataframe tbody tr th:only-of-type {\n",
       "        vertical-align: middle;\n",
       "    }\n",
       "\n",
       "    .dataframe tbody tr th {\n",
       "        vertical-align: top;\n",
       "    }\n",
       "\n",
       "    .dataframe thead th {\n",
       "        text-align: right;\n",
       "    }\n",
       "</style>\n",
       "<table border=\"1\" class=\"dataframe\">\n",
       "  <thead>\n",
       "    <tr style=\"text-align: right;\">\n",
       "      <th></th>\n",
       "      <th>사용월</th>\n",
       "      <th>지하철역</th>\n",
       "      <th>무임승차인원</th>\n",
       "      <th>무임하차인원</th>\n",
       "    </tr>\n",
       "  </thead>\n",
       "  <tbody>\n",
       "    <tr>\n",
       "      <th>2512</th>\n",
       "      <td>202112</td>\n",
       "      <td>구파발</td>\n",
       "      <td>98956</td>\n",
       "      <td>94981</td>\n",
       "    </tr>\n",
       "    <tr>\n",
       "      <th>2518</th>\n",
       "      <td>202112</td>\n",
       "      <td>불광</td>\n",
       "      <td>117579</td>\n",
       "      <td>129643</td>\n",
       "    </tr>\n",
       "    <tr>\n",
       "      <th>2521</th>\n",
       "      <td>202112</td>\n",
       "      <td>녹번</td>\n",
       "      <td>66430</td>\n",
       "      <td>65478</td>\n",
       "    </tr>\n",
       "    <tr>\n",
       "      <th>2522</th>\n",
       "      <td>202112</td>\n",
       "      <td>연신내</td>\n",
       "      <td>219200</td>\n",
       "      <td>213071</td>\n",
       "    </tr>\n",
       "    <tr>\n",
       "      <th>2617</th>\n",
       "      <td>202112</td>\n",
       "      <td>응암</td>\n",
       "      <td>97795</td>\n",
       "      <td>97665</td>\n",
       "    </tr>\n",
       "  </tbody>\n",
       "</table>\n",
       "</div>"
      ],
      "text/plain": [
       "         사용월 지하철역  무임승차인원  무임하차인원\n",
       "2512  202112  구파발   98956   94981\n",
       "2518  202112   불광  117579  129643\n",
       "2521  202112   녹번   66430   65478\n",
       "2522  202112  연신내  219200  213071\n",
       "2617  202112   응암   97795   97665"
      ]
     },
     "execution_count": 23,
     "metadata": {},
     "output_type": "execute_result"
    }
   ],
   "source": [
    "free_ride2 = free_ride1[(free_ride1['지하철역'] == '수색')|(free_ride1['지하철역'] =='연신내')|(free_ride1['지하철역'] =='디지털미디어시티')|(free_ride1['지하철역'] =='구파발')|(free_ride1['지하철역'] =='증산')|(free_ride1['지하철역'] =='새절')|(free_ride1['지하철역'] =='불광')|(free_ride1['지하철역'] =='응암')|(free_ride1['지하철역'] =='구산')|(free_ride1['지하철역'] =='녹번')|(free_ride1['지하철역'] =='독바위')|(free_ride1['지하철역'] =='역촌')|(free_ride1['지하철역'] =='연신내')|(free_ride1['지하철역'] =='불광')]\n",
    "eunpeong_free_ride_2021 = free_ride2[(free_ride2['사용월'] == 202101)|(free_ride2['사용월'] == 202102)|(free_ride2['사용월'] == 202103)|(free_ride2['사용월'] == 202104)|(free_ride2['사용월'] == 202105)|(free_ride2['사용월'] == 202106)|(free_ride2['사용월'] == 202107)|(free_ride2['사용월'] == 202108)|(free_ride2['사용월'] == 202109)|(free_ride2['사용월'] == 202110)|(free_ride2['사용월'] == 202111)|(free_ride2['사용월'] == 202112)]\n",
    "eunpeong_free_ride_2021.head()"
   ]
  },
  {
   "cell_type": "code",
   "execution_count": 24,
   "id": "ba969fce",
   "metadata": {},
   "outputs": [
    {
     "name": "stdout",
     "output_type": "stream",
     "text": [
      "56322\n",
      "56253\n"
     ]
    }
   ],
   "source": [
    "free_ride_eunpeong_2021 = eunpeong_free_ride_2021['무임승차인원'].mean()\n",
    "print(round(free_ride_eunpeong_2021))\n",
    "free_ride_eunpeong_2021 = eunpeong_free_ride_2021['무임하차인원'].mean()\n",
    "print(round(free_ride_eunpeong_2021))"
   ]
  },
  {
   "cell_type": "markdown",
   "id": "a5bbd63c",
   "metadata": {},
   "source": [
    "## 종로구"
   ]
  },
  {
   "cell_type": "code",
   "execution_count": 25,
   "id": "f3e45f88",
   "metadata": {},
   "outputs": [
    {
     "data": {
      "text/html": [
       "<div>\n",
       "<style scoped>\n",
       "    .dataframe tbody tr th:only-of-type {\n",
       "        vertical-align: middle;\n",
       "    }\n",
       "\n",
       "    .dataframe tbody tr th {\n",
       "        vertical-align: top;\n",
       "    }\n",
       "\n",
       "    .dataframe thead th {\n",
       "        text-align: right;\n",
       "    }\n",
       "</style>\n",
       "<table border=\"1\" class=\"dataframe\">\n",
       "  <thead>\n",
       "    <tr style=\"text-align: right;\">\n",
       "      <th></th>\n",
       "      <th>사용월</th>\n",
       "      <th>지하철역</th>\n",
       "      <th>무임승차인원</th>\n",
       "      <th>무임하차인원</th>\n",
       "    </tr>\n",
       "  </thead>\n",
       "  <tbody>\n",
       "    <tr>\n",
       "      <th>2437</th>\n",
       "      <td>202112</td>\n",
       "      <td>종각</td>\n",
       "      <td>116282</td>\n",
       "      <td>108719</td>\n",
       "    </tr>\n",
       "    <tr>\n",
       "      <th>2438</th>\n",
       "      <td>202112</td>\n",
       "      <td>종로3가</td>\n",
       "      <td>249355</td>\n",
       "      <td>234742</td>\n",
       "    </tr>\n",
       "    <tr>\n",
       "      <th>2439</th>\n",
       "      <td>202112</td>\n",
       "      <td>종로5가</td>\n",
       "      <td>220044</td>\n",
       "      <td>210306</td>\n",
       "    </tr>\n",
       "    <tr>\n",
       "      <th>2442</th>\n",
       "      <td>202112</td>\n",
       "      <td>동대문</td>\n",
       "      <td>104871</td>\n",
       "      <td>102595</td>\n",
       "    </tr>\n",
       "    <tr>\n",
       "      <th>2444</th>\n",
       "      <td>202112</td>\n",
       "      <td>동묘앞</td>\n",
       "      <td>122515</td>\n",
       "      <td>123248</td>\n",
       "    </tr>\n",
       "  </tbody>\n",
       "</table>\n",
       "</div>"
      ],
      "text/plain": [
       "         사용월  지하철역  무임승차인원  무임하차인원\n",
       "2437  202112    종각  116282  108719\n",
       "2438  202112  종로3가  249355  234742\n",
       "2439  202112  종로5가  220044  210306\n",
       "2442  202112   동대문  104871  102595\n",
       "2444  202112   동묘앞  122515  123248"
      ]
     },
     "execution_count": 25,
     "metadata": {},
     "output_type": "execute_result"
    }
   ],
   "source": [
    "free_ride2 = free_ride1[(free_ride1['지하철역'] == '경복궁')|(free_ride1['지하철역'] =='광화문')|(free_ride1['지하철역'] =='종로3가')|(free_ride1['지하철역'] =='혜화')|(free_ride1['지하철역'] =='안국')|(free_ride1['지하철역'] =='종각')|(free_ride1['지하철역'] =='동묘앞')|(free_ride1['지하철역'] =='동대문')|(free_ride1['지하철역'] =='종로5가')|(free_ride1['지하철역'] =='독립문')]\n",
    "jongro_free_ride_2021 = free_ride2[(free_ride2['사용월'] == 202101)|(free_ride2['사용월'] == 202102)|(free_ride2['사용월'] == 202103)|(free_ride2['사용월'] == 202104)|(free_ride2['사용월'] == 202105)|(free_ride2['사용월'] == 202106)|(free_ride2['사용월'] == 202107)|(free_ride2['사용월'] == 202108)|(free_ride2['사용월'] == 202109)|(free_ride2['사용월'] == 202110)|(free_ride2['사용월'] == 202111)|(free_ride2['사용월'] == 202112)]\n",
    "jongro_free_ride_2021.head()"
   ]
  },
  {
   "cell_type": "code",
   "execution_count": 26,
   "id": "e33568f1",
   "metadata": {},
   "outputs": [
    {
     "name": "stdout",
     "output_type": "stream",
     "text": [
      "111773\n",
      "109322\n"
     ]
    }
   ],
   "source": [
    "free_ride_jongro_2021 = jongro_free_ride_2021['무임승차인원'].mean()\n",
    "print(round(free_ride_jongro_2021))\n",
    "free_ride_jongro_2021 = jongro_free_ride_2021['무임하차인원'].mean()\n",
    "print(round(free_ride_jongro_2021))"
   ]
  },
  {
   "cell_type": "markdown",
   "id": "2728de14",
   "metadata": {},
   "source": [
    "## 서대문구"
   ]
  },
  {
   "cell_type": "markdown",
   "id": "5625ae6f",
   "metadata": {},
   "source": [
    "신촌\n",
    "충정로\n",
    "가좌\n",
    "홍제\n",
    "서대문\n",
    "무악재\n",
    "충정로\n",
    "이대\n",
    "아현\n",
    "독립문\n"
   ]
  },
  {
   "cell_type": "code",
   "execution_count": 7,
   "id": "a854ff9f",
   "metadata": {},
   "outputs": [
    {
     "data": {
      "text/html": [
       "<div>\n",
       "<style scoped>\n",
       "    .dataframe tbody tr th:only-of-type {\n",
       "        vertical-align: middle;\n",
       "    }\n",
       "\n",
       "    .dataframe tbody tr th {\n",
       "        vertical-align: top;\n",
       "    }\n",
       "\n",
       "    .dataframe thead th {\n",
       "        text-align: right;\n",
       "    }\n",
       "</style>\n",
       "<table border=\"1\" class=\"dataframe\">\n",
       "  <thead>\n",
       "    <tr style=\"text-align: right;\">\n",
       "      <th></th>\n",
       "      <th>사용월</th>\n",
       "      <th>지하철역</th>\n",
       "      <th>무임승차인원</th>\n",
       "      <th>무임하차인원</th>\n",
       "    </tr>\n",
       "  </thead>\n",
       "  <tbody>\n",
       "    <tr>\n",
       "      <th>2450</th>\n",
       "      <td>202112</td>\n",
       "      <td>아현</td>\n",
       "      <td>55583</td>\n",
       "      <td>55013</td>\n",
       "    </tr>\n",
       "    <tr>\n",
       "      <th>2460</th>\n",
       "      <td>202112</td>\n",
       "      <td>이대</td>\n",
       "      <td>40478</td>\n",
       "      <td>42304</td>\n",
       "    </tr>\n",
       "    <tr>\n",
       "      <th>2478</th>\n",
       "      <td>202112</td>\n",
       "      <td>신촌</td>\n",
       "      <td>103893</td>\n",
       "      <td>100750</td>\n",
       "    </tr>\n",
       "    <tr>\n",
       "      <th>2506</th>\n",
       "      <td>202112</td>\n",
       "      <td>무악재</td>\n",
       "      <td>24476</td>\n",
       "      <td>26906</td>\n",
       "    </tr>\n",
       "    <tr>\n",
       "      <th>2524</th>\n",
       "      <td>202112</td>\n",
       "      <td>홍제</td>\n",
       "      <td>117295</td>\n",
       "      <td>115650</td>\n",
       "    </tr>\n",
       "  </tbody>\n",
       "</table>\n",
       "</div>"
      ],
      "text/plain": [
       "         사용월 지하철역  무임승차인원  무임하차인원\n",
       "2450  202112   아현   55583   55013\n",
       "2460  202112   이대   40478   42304\n",
       "2478  202112   신촌  103893  100750\n",
       "2506  202112  무악재   24476   26906\n",
       "2524  202112   홍제  117295  115650"
      ]
     },
     "execution_count": 7,
     "metadata": {},
     "output_type": "execute_result"
    }
   ],
   "source": [
    "free_ride2 = free_ride1[(free_ride1['지하철역'] == '신촌')|(free_ride1['지하철역'] =='충정로')|(free_ride1['지하철역'] =='가좌')|(free_ride1['지하철역'] =='홍제')|(free_ride1['지하철역'] =='서대문')|(free_ride1['지하철역'] =='무악재')|(free_ride1['지하철역'] =='충정로')|(free_ride1['지하철역'] =='이대')|(free_ride1['지하철역'] =='아현')|(free_ride1['지하철역'] =='독립문')]\n",
    "seodae_free_ride_2021 = free_ride2[(free_ride2['사용월'] == 202101)|(free_ride2['사용월'] == 202102)|(free_ride2['사용월'] == 202103)|(free_ride2['사용월'] == 202104)|(free_ride2['사용월'] == 202105)|(free_ride2['사용월'] == 202106)|(free_ride2['사용월'] == 202107)|(free_ride2['사용월'] == 202108)|(free_ride2['사용월'] == 202109)|(free_ride2['사용월'] == 202110)|(free_ride2['사용월'] == 202111)|(free_ride2['사용월'] == 202112)]\n",
    "seodae_free_ride_2021.head()"
   ]
  },
  {
   "cell_type": "code",
   "execution_count": 8,
   "id": "8c43efef",
   "metadata": {},
   "outputs": [
    {
     "name": "stdout",
     "output_type": "stream",
     "text": [
      "53289\n",
      "52710\n"
     ]
    }
   ],
   "source": [
    "free_ride_seodae_2021 = seodae_free_ride_2021['무임승차인원'].mean()\n",
    "print(round(free_ride_seodae_2021))\n",
    "free_ride_seodae_2021 = seodae_free_ride_2021['무임하차인원'].mean()\n",
    "print(round(free_ride_seodae_2021))"
   ]
  },
  {
   "cell_type": "markdown",
   "id": "188b176b",
   "metadata": {},
   "source": [
    "## 중구"
   ]
  },
  {
   "cell_type": "markdown",
   "id": "6df9cf0b",
   "metadata": {},
   "source": [
    "서울역 회현역 시청역 을지로입구역 을지로3가역 명동역 충무로역 \n",
    "동대문역사문화공원역 동대입구역 약수역 신당역 을지로4가역 청구역 버티고개역 "
   ]
  },
  {
   "cell_type": "code",
   "execution_count": 9,
   "id": "a8127873",
   "metadata": {},
   "outputs": [
    {
     "data": {
      "text/html": [
       "<div>\n",
       "<style scoped>\n",
       "    .dataframe tbody tr th:only-of-type {\n",
       "        vertical-align: middle;\n",
       "    }\n",
       "\n",
       "    .dataframe tbody tr th {\n",
       "        vertical-align: top;\n",
       "    }\n",
       "\n",
       "    .dataframe thead th {\n",
       "        text-align: right;\n",
       "    }\n",
       "</style>\n",
       "<table border=\"1\" class=\"dataframe\">\n",
       "  <thead>\n",
       "    <tr style=\"text-align: right;\">\n",
       "      <th></th>\n",
       "      <th>사용월</th>\n",
       "      <th>지하철역</th>\n",
       "      <th>무임승차인원</th>\n",
       "      <th>무임하차인원</th>\n",
       "    </tr>\n",
       "  </thead>\n",
       "  <tbody>\n",
       "    <tr>\n",
       "      <th>2443</th>\n",
       "      <td>202112</td>\n",
       "      <td>시청</td>\n",
       "      <td>65715</td>\n",
       "      <td>65083</td>\n",
       "    </tr>\n",
       "    <tr>\n",
       "      <th>2461</th>\n",
       "      <td>202112</td>\n",
       "      <td>을지로4가</td>\n",
       "      <td>76676</td>\n",
       "      <td>74906</td>\n",
       "    </tr>\n",
       "    <tr>\n",
       "      <th>2470</th>\n",
       "      <td>202112</td>\n",
       "      <td>을지로입구</td>\n",
       "      <td>86779</td>\n",
       "      <td>80990</td>\n",
       "    </tr>\n",
       "    <tr>\n",
       "      <th>2476</th>\n",
       "      <td>202112</td>\n",
       "      <td>을지로3가</td>\n",
       "      <td>67899</td>\n",
       "      <td>66751</td>\n",
       "    </tr>\n",
       "    <tr>\n",
       "      <th>2477</th>\n",
       "      <td>202112</td>\n",
       "      <td>시청</td>\n",
       "      <td>45989</td>\n",
       "      <td>41650</td>\n",
       "    </tr>\n",
       "  </tbody>\n",
       "</table>\n",
       "</div>"
      ],
      "text/plain": [
       "         사용월   지하철역  무임승차인원  무임하차인원\n",
       "2443  202112     시청   65715   65083\n",
       "2461  202112  을지로4가   76676   74906\n",
       "2470  202112  을지로입구   86779   80990\n",
       "2476  202112  을지로3가   67899   66751\n",
       "2477  202112     시청   45989   41650"
      ]
     },
     "execution_count": 9,
     "metadata": {},
     "output_type": "execute_result"
    }
   ],
   "source": [
    "free_ride2 = free_ride1[(free_ride1['지하철역'] == '서울')|(free_ride1['지하철역'] =='회현')|(free_ride1['지하철역'] =='시청')|(free_ride1['지하철역'] =='을지로입구')|(free_ride1['지하철역'] =='을지로3가')|(free_ride1['지하철역'] =='명동')|(free_ride1['지하철역'] =='충무로')|(free_ride1['지하철역'] =='동대문역사문화공원')|(free_ride1['지하철역'] =='동대입구')|(free_ride1['지하철역'] =='약수')|(free_ride1['지하철역'] =='신당')|(free_ride1['지하철역'] =='을지로4가')|(free_ride1['지하철역'] =='청구')|(free_ride1['지하철역'] =='버티고개')]\n",
    "jung_free_ride_2021 = free_ride2[(free_ride2['사용월'] == 202101)|(free_ride2['사용월'] == 202102)|(free_ride2['사용월'] == 202103)|(free_ride2['사용월'] == 202104)|(free_ride2['사용월'] == 202105)|(free_ride2['사용월'] == 202106)|(free_ride2['사용월'] == 202107)|(free_ride2['사용월'] == 202108)|(free_ride2['사용월'] == 202109)|(free_ride2['사용월'] == 202110)|(free_ride2['사용월'] == 202111)|(free_ride2['사용월'] == 202112)]\n",
    "jung_free_ride_2021.head()"
   ]
  },
  {
   "cell_type": "code",
   "execution_count": 10,
   "id": "3a36e57a",
   "metadata": {},
   "outputs": [
    {
     "name": "stdout",
     "output_type": "stream",
     "text": [
      "44991\n",
      "44196\n"
     ]
    }
   ],
   "source": [
    "free_ride_jung_2021 = jung_free_ride_2021['무임승차인원'].mean()\n",
    "print(round(free_ride_jung_2021))\n",
    "free_ride_jung_2021 = jung_free_ride_2021['무임하차인원'].mean()\n",
    "print(round(free_ride_jung_2021))"
   ]
  },
  {
   "cell_type": "markdown",
   "id": "41aa5335",
   "metadata": {},
   "source": [
    "## 마포구"
   ]
  },
  {
   "cell_type": "markdown",
   "id": "73bc642f",
   "metadata": {},
   "source": [
    "홍대입구 월드컵경기장 공덕 합정 디지털미디어시티역 이대역 망원역 마포역 대흥역 상수역 마포구청역 아현역 광흥창역 애오개역 서강대역 신촌역 "
   ]
  },
  {
   "cell_type": "code",
   "execution_count": 11,
   "id": "34f42e97",
   "metadata": {},
   "outputs": [
    {
     "data": {
      "text/html": [
       "<div>\n",
       "<style scoped>\n",
       "    .dataframe tbody tr th:only-of-type {\n",
       "        vertical-align: middle;\n",
       "    }\n",
       "\n",
       "    .dataframe tbody tr th {\n",
       "        vertical-align: top;\n",
       "    }\n",
       "\n",
       "    .dataframe thead th {\n",
       "        text-align: right;\n",
       "    }\n",
       "</style>\n",
       "<table border=\"1\" class=\"dataframe\">\n",
       "  <thead>\n",
       "    <tr style=\"text-align: right;\">\n",
       "      <th></th>\n",
       "      <th>사용월</th>\n",
       "      <th>지하철역</th>\n",
       "      <th>무임승차인원</th>\n",
       "      <th>무임하차인원</th>\n",
       "    </tr>\n",
       "  </thead>\n",
       "  <tbody>\n",
       "    <tr>\n",
       "      <th>2450</th>\n",
       "      <td>202112</td>\n",
       "      <td>아현</td>\n",
       "      <td>55583</td>\n",
       "      <td>55013</td>\n",
       "    </tr>\n",
       "    <tr>\n",
       "      <th>2460</th>\n",
       "      <td>202112</td>\n",
       "      <td>이대</td>\n",
       "      <td>40478</td>\n",
       "      <td>42304</td>\n",
       "    </tr>\n",
       "    <tr>\n",
       "      <th>2472</th>\n",
       "      <td>202112</td>\n",
       "      <td>홍대입구</td>\n",
       "      <td>82749</td>\n",
       "      <td>78997</td>\n",
       "    </tr>\n",
       "    <tr>\n",
       "      <th>2478</th>\n",
       "      <td>202112</td>\n",
       "      <td>신촌</td>\n",
       "      <td>103893</td>\n",
       "      <td>100750</td>\n",
       "    </tr>\n",
       "    <tr>\n",
       "      <th>2486</th>\n",
       "      <td>202112</td>\n",
       "      <td>합정</td>\n",
       "      <td>58214</td>\n",
       "      <td>57604</td>\n",
       "    </tr>\n",
       "  </tbody>\n",
       "</table>\n",
       "</div>"
      ],
      "text/plain": [
       "         사용월  지하철역  무임승차인원  무임하차인원\n",
       "2450  202112    아현   55583   55013\n",
       "2460  202112    이대   40478   42304\n",
       "2472  202112  홍대입구   82749   78997\n",
       "2478  202112    신촌  103893  100750\n",
       "2486  202112    합정   58214   57604"
      ]
     },
     "execution_count": 11,
     "metadata": {},
     "output_type": "execute_result"
    }
   ],
   "source": [
    "free_ride2 = free_ride1[(free_ride1['지하철역'] == '홍대입구')|(free_ride1['지하철역'] =='월드컵경기장')|(free_ride1['지하철역'] =='공덕')|(free_ride1['지하철역'] =='합정')|(free_ride1['지하철역'] =='디지털미디어시티')|(free_ride1['지하철역'] =='이대')|(free_ride1['지하철역'] =='망원')|(free_ride1['지하철역'] =='마포')|(free_ride1['지하철역'] =='대흥')|(free_ride1['지하철역'] =='상수')|(free_ride1['지하철역'] =='마포구청')|(free_ride1['지하철역'] =='아현')|(free_ride1['지하철역'] =='광흥창')|(free_ride1['지하철역'] =='애오개')|(free_ride1['지하철역'] =='서강대')|(free_ride1['지하철역'] =='신촌')]\n",
    "mapo_free_ride_2021 = free_ride2[(free_ride2['사용월'] == 202101)|(free_ride2['사용월'] == 202102)|(free_ride2['사용월'] == 202103)|(free_ride2['사용월'] == 202104)|(free_ride2['사용월'] == 202105)|(free_ride2['사용월'] == 202106)|(free_ride2['사용월'] == 202107)|(free_ride2['사용월'] == 202108)|(free_ride2['사용월'] == 202109)|(free_ride2['사용월'] == 202110)|(free_ride2['사용월'] == 202111)|(free_ride2['사용월'] == 202112)]\n",
    "mapo_free_ride_2021.head()"
   ]
  },
  {
   "cell_type": "code",
   "execution_count": 17,
   "id": "498ebaeb",
   "metadata": {},
   "outputs": [
    {
     "name": "stdout",
     "output_type": "stream",
     "text": [
      "36730\n",
      "35819\n"
     ]
    }
   ],
   "source": [
    "free_ride_mapo_2021 = mapo_free_ride_2021['무임승차인원'].mean()\n",
    "print(round(free_ride_mapo_2021))\n",
    "free_ride_mapo_2021 = mapo_free_ride_2021['무임하차인원'].mean()\n",
    "print(round(free_ride_mapo_2021))"
   ]
  },
  {
   "cell_type": "markdown",
   "id": "7598ceb5",
   "metadata": {},
   "source": [
    "## 용산구"
   ]
  },
  {
   "cell_type": "markdown",
   "id": "d70c4e51",
   "metadata": {},
   "source": [
    "서울역 용산역 숙대입구역 이촌역 한남역 이태원역 한강진역 신용산역 \n",
    "녹사평(용산구청)역 남영역 서빙고역 삼각지역 효창공원앞역 "
   ]
  },
  {
   "cell_type": "code",
   "execution_count": 13,
   "id": "e1c9329c",
   "metadata": {},
   "outputs": [
    {
     "data": {
      "text/html": [
       "<div>\n",
       "<style scoped>\n",
       "    .dataframe tbody tr th:only-of-type {\n",
       "        vertical-align: middle;\n",
       "    }\n",
       "\n",
       "    .dataframe tbody tr th {\n",
       "        vertical-align: top;\n",
       "    }\n",
       "\n",
       "    .dataframe thead th {\n",
       "        text-align: right;\n",
       "    }\n",
       "</style>\n",
       "<table border=\"1\" class=\"dataframe\">\n",
       "  <thead>\n",
       "    <tr style=\"text-align: right;\">\n",
       "      <th></th>\n",
       "      <th>사용월</th>\n",
       "      <th>지하철역</th>\n",
       "      <th>무임승차인원</th>\n",
       "      <th>무임하차인원</th>\n",
       "    </tr>\n",
       "  </thead>\n",
       "  <tbody>\n",
       "    <tr>\n",
       "      <th>2531</th>\n",
       "      <td>202112</td>\n",
       "      <td>삼각지</td>\n",
       "      <td>20002</td>\n",
       "      <td>20921</td>\n",
       "    </tr>\n",
       "    <tr>\n",
       "      <th>2533</th>\n",
       "      <td>202112</td>\n",
       "      <td>신용산</td>\n",
       "      <td>44486</td>\n",
       "      <td>44856</td>\n",
       "    </tr>\n",
       "    <tr>\n",
       "      <th>2611</th>\n",
       "      <td>202112</td>\n",
       "      <td>녹사평(용산구청)</td>\n",
       "      <td>15367</td>\n",
       "      <td>14685</td>\n",
       "    </tr>\n",
       "    <tr>\n",
       "      <th>2631</th>\n",
       "      <td>202112</td>\n",
       "      <td>한강진</td>\n",
       "      <td>13275</td>\n",
       "      <td>13159</td>\n",
       "    </tr>\n",
       "    <tr>\n",
       "      <th>2636</th>\n",
       "      <td>202112</td>\n",
       "      <td>이태원</td>\n",
       "      <td>26692</td>\n",
       "      <td>27411</td>\n",
       "    </tr>\n",
       "  </tbody>\n",
       "</table>\n",
       "</div>"
      ],
      "text/plain": [
       "         사용월       지하철역  무임승차인원  무임하차인원\n",
       "2531  202112        삼각지   20002   20921\n",
       "2533  202112        신용산   44486   44856\n",
       "2611  202112  녹사평(용산구청)   15367   14685\n",
       "2631  202112        한강진   13275   13159\n",
       "2636  202112        이태원   26692   27411"
      ]
     },
     "execution_count": 13,
     "metadata": {},
     "output_type": "execute_result"
    }
   ],
   "source": [
    "free_ride2 = free_ride1[(free_ride1['지하철역'] == '서울')|(free_ride1['지하철역'] =='용산')|(free_ride1['지하철역'] =='숙대입구')|(free_ride1['지하철역'] =='이촌')|(free_ride1['지하철역'] =='한남')|(free_ride1['지하철역'] =='이태원')|(free_ride1['지하철역'] =='한강진')|(free_ride1['지하철역'] =='신용산')|(free_ride1['지하철역'] =='녹사평(용산구청)')|(free_ride1['지하철역'] =='남영')|(free_ride1['지하철역'] =='서빙고')|(free_ride1['지하철역'] =='삼각지')|(free_ride1['지하철역'] =='효창공원앞')]\n",
    "yong_free_ride_2021 = free_ride2[(free_ride2['사용월'] == 202101)|(free_ride2['사용월'] == 202102)|(free_ride2['사용월'] == 202103)|(free_ride2['사용월'] == 202104)|(free_ride2['사용월'] == 202105)|(free_ride2['사용월'] == 202106)|(free_ride2['사용월'] == 202107)|(free_ride2['사용월'] == 202108)|(free_ride2['사용월'] == 202109)|(free_ride2['사용월'] == 202110)|(free_ride2['사용월'] == 202111)|(free_ride2['사용월'] == 202112)]\n",
    "yong_free_ride_2021.head()"
   ]
  },
  {
   "cell_type": "code",
   "execution_count": 14,
   "id": "1a9facb6",
   "metadata": {},
   "outputs": [
    {
     "name": "stdout",
     "output_type": "stream",
     "text": [
      "28055\n",
      "27710\n"
     ]
    }
   ],
   "source": [
    "free_ride_yong_2021 = yong_free_ride_2021['무임승차인원'].mean()\n",
    "print(round(free_ride_yong_2021))\n",
    "free_ride_yong_2021 = yong_free_ride_2021['무임하차인원'].mean()\n",
    "print(round(free_ride_yong_2021))"
   ]
  },
  {
   "cell_type": "markdown",
   "id": "4420eb17",
   "metadata": {},
   "source": [
    "## 성동구"
   ]
  },
  {
   "cell_type": "markdown",
   "id": "963760cf",
   "metadata": {},
   "source": [
    "옥수역 성수역 왕십리역 한양대역 뚝섬역 서울숲역 응봉역 답십리역 신금호역 상왕십리역 금호역 행당역 마장역 용답역 신답역 "
   ]
  },
  {
   "cell_type": "code",
   "execution_count": 19,
   "id": "0526f1bb",
   "metadata": {},
   "outputs": [
    {
     "data": {
      "text/html": [
       "<div>\n",
       "<style scoped>\n",
       "    .dataframe tbody tr th:only-of-type {\n",
       "        vertical-align: middle;\n",
       "    }\n",
       "\n",
       "    .dataframe tbody tr th {\n",
       "        vertical-align: top;\n",
       "    }\n",
       "\n",
       "    .dataframe thead th {\n",
       "        text-align: right;\n",
       "    }\n",
       "</style>\n",
       "<table border=\"1\" class=\"dataframe\">\n",
       "  <thead>\n",
       "    <tr style=\"text-align: right;\">\n",
       "      <th></th>\n",
       "      <th>사용월</th>\n",
       "      <th>지하철역</th>\n",
       "      <th>무임승차인원</th>\n",
       "      <th>무임하차인원</th>\n",
       "    </tr>\n",
       "  </thead>\n",
       "  <tbody>\n",
       "    <tr>\n",
       "      <th>2445</th>\n",
       "      <td>202112</td>\n",
       "      <td>한양대</td>\n",
       "      <td>11090</td>\n",
       "      <td>11286</td>\n",
       "    </tr>\n",
       "    <tr>\n",
       "      <th>2448</th>\n",
       "      <td>202112</td>\n",
       "      <td>뚝섬</td>\n",
       "      <td>52803</td>\n",
       "      <td>53527</td>\n",
       "    </tr>\n",
       "    <tr>\n",
       "      <th>2462</th>\n",
       "      <td>202112</td>\n",
       "      <td>용답</td>\n",
       "      <td>15472</td>\n",
       "      <td>15432</td>\n",
       "    </tr>\n",
       "    <tr>\n",
       "      <th>2465</th>\n",
       "      <td>202112</td>\n",
       "      <td>성수</td>\n",
       "      <td>95402</td>\n",
       "      <td>97223</td>\n",
       "    </tr>\n",
       "    <tr>\n",
       "      <th>2493</th>\n",
       "      <td>202112</td>\n",
       "      <td>상왕십리</td>\n",
       "      <td>59983</td>\n",
       "      <td>60404</td>\n",
       "    </tr>\n",
       "  </tbody>\n",
       "</table>\n",
       "</div>"
      ],
      "text/plain": [
       "         사용월  지하철역  무임승차인원  무임하차인원\n",
       "2445  202112   한양대   11090   11286\n",
       "2448  202112    뚝섬   52803   53527\n",
       "2462  202112    용답   15472   15432\n",
       "2465  202112    성수   95402   97223\n",
       "2493  202112  상왕십리   59983   60404"
      ]
     },
     "execution_count": 19,
     "metadata": {},
     "output_type": "execute_result"
    }
   ],
   "source": [
    "free_ride2 = free_ride1[(free_ride1['지하철역'] == '옥수')|(free_ride1['지하철역'] =='성수')|(free_ride1['지하철역'] =='왕십리')|(free_ride1['지하철역'] =='한양대')|(free_ride1['지하철역'] =='뚝섬')|(free_ride1['지하철역'] =='서울숲')|(free_ride1['지하철역'] =='응봉')|(free_ride1['지하철역'] =='답십리')|(free_ride1['지하철역'] =='신금호')|(free_ride1['지하철역'] =='상왕십리')|(free_ride1['지하철역'] =='금호')|(free_ride1['지하철역'] =='행당')|(free_ride1['지하철역'] =='마장')|(free_ride1['지하철역'] =='용답')|(free_ride1['지하철역'] =='신답')]\n",
    "sung_free_ride_2021 = free_ride2[(free_ride2['사용월'] == 202101)|(free_ride2['사용월'] == 202102)|(free_ride2['사용월'] == 202103)|(free_ride2['사용월'] == 202104)|(free_ride2['사용월'] == 202105)|(free_ride2['사용월'] == 202106)|(free_ride2['사용월'] == 202107)|(free_ride2['사용월'] == 202108)|(free_ride2['사용월'] == 202109)|(free_ride2['사용월'] == 202110)|(free_ride2['사용월'] == 202111)|(free_ride2['사용월'] == 202112)]\n",
    "sung_free_ride_2021.head()"
   ]
  },
  {
   "cell_type": "code",
   "execution_count": 20,
   "id": "8d664992",
   "metadata": {},
   "outputs": [
    {
     "name": "stdout",
     "output_type": "stream",
     "text": [
      "35110\n",
      "34967\n"
     ]
    }
   ],
   "source": [
    "free_ride_sung_2021 = sung_free_ride_2021['무임승차인원'].mean()\n",
    "print(round(free_ride_sung_2021))\n",
    "free_ride_sung_2021 = sung_free_ride_2021['무임하차인원'].mean()\n",
    "print(round(free_ride_sung_2021))"
   ]
  },
  {
   "cell_type": "markdown",
   "id": "08e73b8f",
   "metadata": {},
   "source": [
    "## 광진구"
   ]
  },
  {
   "cell_type": "markdown",
   "id": "86b84773",
   "metadata": {},
   "source": [
    "강변역 군자역 건대입구역 아차산역 구의역 어린이대공원역 건대입구역 광나루역 뚝섬유원지역 중곡역 "
   ]
  },
  {
   "cell_type": "code",
   "execution_count": 21,
   "id": "e2d1ccf8",
   "metadata": {},
   "outputs": [
    {
     "data": {
      "text/html": [
       "<div>\n",
       "<style scoped>\n",
       "    .dataframe tbody tr th:only-of-type {\n",
       "        vertical-align: middle;\n",
       "    }\n",
       "\n",
       "    .dataframe tbody tr th {\n",
       "        vertical-align: top;\n",
       "    }\n",
       "\n",
       "    .dataframe thead th {\n",
       "        text-align: right;\n",
       "    }\n",
       "</style>\n",
       "<table border=\"1\" class=\"dataframe\">\n",
       "  <thead>\n",
       "    <tr style=\"text-align: right;\">\n",
       "      <th></th>\n",
       "      <th>사용월</th>\n",
       "      <th>지하철역</th>\n",
       "      <th>무임승차인원</th>\n",
       "      <th>무임하차인원</th>\n",
       "    </tr>\n",
       "  </thead>\n",
       "  <tbody>\n",
       "    <tr>\n",
       "      <th>2485</th>\n",
       "      <td>202112</td>\n",
       "      <td>건대입구</td>\n",
       "      <td>77515</td>\n",
       "      <td>81692</td>\n",
       "    </tr>\n",
       "    <tr>\n",
       "      <th>2656</th>\n",
       "      <td>202112</td>\n",
       "      <td>뚝섬유원지</td>\n",
       "      <td>34353</td>\n",
       "      <td>34597</td>\n",
       "    </tr>\n",
       "    <tr>\n",
       "      <th>2696</th>\n",
       "      <td>202112</td>\n",
       "      <td>중곡</td>\n",
       "      <td>53415</td>\n",
       "      <td>54647</td>\n",
       "    </tr>\n",
       "    <tr>\n",
       "      <th>2697</th>\n",
       "      <td>202112</td>\n",
       "      <td>건대입구</td>\n",
       "      <td>47300</td>\n",
       "      <td>41976</td>\n",
       "    </tr>\n",
       "    <tr>\n",
       "      <th>3093</th>\n",
       "      <td>202111</td>\n",
       "      <td>건대입구</td>\n",
       "      <td>81208</td>\n",
       "      <td>85304</td>\n",
       "    </tr>\n",
       "  </tbody>\n",
       "</table>\n",
       "</div>"
      ],
      "text/plain": [
       "         사용월   지하철역  무임승차인원  무임하차인원\n",
       "2485  202112   건대입구   77515   81692\n",
       "2656  202112  뚝섬유원지   34353   34597\n",
       "2696  202112     중곡   53415   54647\n",
       "2697  202112   건대입구   47300   41976\n",
       "3093  202111   건대입구   81208   85304"
      ]
     },
     "execution_count": 21,
     "metadata": {},
     "output_type": "execute_result"
    }
   ],
   "source": [
    "free_ride2 = free_ride1[(free_ride1['지하철역'] == '강변')|(free_ride1['지하철역'] =='군자')|(free_ride1['지하철역'] =='건대입구')|(free_ride1['지하철역'] =='아차산')|(free_ride1['지하철역'] =='구의')|(free_ride1['지하철역'] =='어린이대공원')|(free_ride1['지하철역'] =='건대입구')|(free_ride1['지하철역'] =='광나루')|(free_ride1['지하철역'] =='뚝섬유원지')|(free_ride1['지하철역'] =='중곡')]\n",
    "kuang_free_ride_2021 = free_ride2[(free_ride2['사용월'] == 202101)|(free_ride2['사용월'] == 202102)|(free_ride2['사용월'] == 202103)|(free_ride2['사용월'] == 202104)|(free_ride2['사용월'] == 202105)|(free_ride2['사용월'] == 202106)|(free_ride2['사용월'] == 202107)|(free_ride2['사용월'] == 202108)|(free_ride2['사용월'] == 202109)|(free_ride2['사용월'] == 202110)|(free_ride2['사용월'] == 202111)|(free_ride2['사용월'] == 202112)]\n",
    "kuang_free_ride_2021.head()"
   ]
  },
  {
   "cell_type": "code",
   "execution_count": 22,
   "id": "c78f4f3a",
   "metadata": {},
   "outputs": [
    {
     "name": "stdout",
     "output_type": "stream",
     "text": [
      "50200\n",
      "50146\n"
     ]
    }
   ],
   "source": [
    "free_ride_kuang_2021 = kuang_free_ride_2021['무임승차인원'].mean()\n",
    "print(round(free_ride_kuang_2021))\n",
    "free_ride_kuang_2021 = kuang_free_ride_2021['무임하차인원'].mean()\n",
    "print(round(free_ride_kuang_2021))"
   ]
  },
  {
   "cell_type": "markdown",
   "id": "61b31c33",
   "metadata": {},
   "source": [
    "## 강서구"
   ]
  },
  {
   "cell_type": "markdown",
   "id": "c3417ba0",
   "metadata": {},
   "source": [
    "김포공항 가양 염창 발산 마곡나루 화곡 개화 양천향교 신방화 까치산 증미 우장산 송정 \n",
    "마곡 방화 공항시장 개화산 등촌 "
   ]
  },
  {
   "cell_type": "code",
   "execution_count": 23,
   "id": "fff1179d",
   "metadata": {},
   "outputs": [
    {
     "data": {
      "text/html": [
       "<div>\n",
       "<style scoped>\n",
       "    .dataframe tbody tr th:only-of-type {\n",
       "        vertical-align: middle;\n",
       "    }\n",
       "\n",
       "    .dataframe tbody tr th {\n",
       "        vertical-align: top;\n",
       "    }\n",
       "\n",
       "    .dataframe thead th {\n",
       "        text-align: right;\n",
       "    }\n",
       "</style>\n",
       "<table border=\"1\" class=\"dataframe\">\n",
       "  <thead>\n",
       "    <tr style=\"text-align: right;\">\n",
       "      <th></th>\n",
       "      <th>사용월</th>\n",
       "      <th>지하철역</th>\n",
       "      <th>무임승차인원</th>\n",
       "      <th>무임하차인원</th>\n",
       "    </tr>\n",
       "  </thead>\n",
       "  <tbody>\n",
       "    <tr>\n",
       "      <th>2564</th>\n",
       "      <td>202112</td>\n",
       "      <td>발산</td>\n",
       "      <td>78004</td>\n",
       "      <td>75358</td>\n",
       "    </tr>\n",
       "    <tr>\n",
       "      <th>2573</th>\n",
       "      <td>202112</td>\n",
       "      <td>우장산</td>\n",
       "      <td>74738</td>\n",
       "      <td>78121</td>\n",
       "    </tr>\n",
       "    <tr>\n",
       "      <th>2575</th>\n",
       "      <td>202112</td>\n",
       "      <td>개화산</td>\n",
       "      <td>33410</td>\n",
       "      <td>32961</td>\n",
       "    </tr>\n",
       "    <tr>\n",
       "      <th>2582</th>\n",
       "      <td>202112</td>\n",
       "      <td>마곡</td>\n",
       "      <td>34573</td>\n",
       "      <td>33797</td>\n",
       "    </tr>\n",
       "    <tr>\n",
       "      <th>2584</th>\n",
       "      <td>202112</td>\n",
       "      <td>김포공항</td>\n",
       "      <td>28522</td>\n",
       "      <td>29846</td>\n",
       "    </tr>\n",
       "  </tbody>\n",
       "</table>\n",
       "</div>"
      ],
      "text/plain": [
       "         사용월  지하철역  무임승차인원  무임하차인원\n",
       "2564  202112    발산   78004   75358\n",
       "2573  202112   우장산   74738   78121\n",
       "2575  202112   개화산   33410   32961\n",
       "2582  202112    마곡   34573   33797\n",
       "2584  202112  김포공항   28522   29846"
      ]
     },
     "execution_count": 23,
     "metadata": {},
     "output_type": "execute_result"
    }
   ],
   "source": [
    "free_ride2 = free_ride1[(free_ride1['지하철역'] == '김포공항')|(free_ride1['지하철역'] =='가양')|(free_ride1['지하철역'] =='염창')|(free_ride1['지하철역'] =='발산')|(free_ride1['지하철역'] =='마곡나루')|(free_ride1['지하철역'] =='화곡')|(free_ride1['지하철역'] =='개화')|(free_ride1['지하철역'] =='양천향교')|(free_ride1['지하철역'] =='신방화')|(free_ride1['지하철역'] =='까치산')|(free_ride1['지하철역'] =='증미')|(free_ride1['지하철역'] =='우장산')|(free_ride1['지하철역'] =='송정')|(free_ride1['지하철역'] =='마곡')|(free_ride1['지하철역'] =='방화')|(free_ride1['지하철역'] =='공항시장')|(free_ride1['지하철역'] =='개화산')|(free_ride1['지하철역'] =='등촌')]\n",
    "kangseo_free_ride_2021 = free_ride2[(free_ride2['사용월'] == 202101)|(free_ride2['사용월'] == 202102)|(free_ride2['사용월'] == 202103)|(free_ride2['사용월'] == 202104)|(free_ride2['사용월'] == 202105)|(free_ride2['사용월'] == 202106)|(free_ride2['사용월'] == 202107)|(free_ride2['사용월'] == 202108)|(free_ride2['사용월'] == 202109)|(free_ride2['사용월'] == 202110)|(free_ride2['사용월'] == 202111)|(free_ride2['사용월'] == 202112)]\n",
    "kangseo_free_ride_2021.head()"
   ]
  },
  {
   "cell_type": "code",
   "execution_count": 24,
   "id": "f0dc6061",
   "metadata": {},
   "outputs": [
    {
     "name": "stdout",
     "output_type": "stream",
     "text": [
      "49688\n",
      "49202\n"
     ]
    }
   ],
   "source": [
    "free_ride_kangseo_2021 = kangseo_free_ride_2021['무임승차인원'].mean()\n",
    "print(round(free_ride_kangseo_2021))\n",
    "free_ride_kangseo_2021 = kangseo_free_ride_2021['무임하차인원'].mean()\n",
    "print(round(free_ride_kangseo_2021))"
   ]
  },
  {
   "cell_type": "markdown",
   "id": "68897bd8",
   "metadata": {},
   "source": [
    "## 양천구"
   ]
  },
  {
   "cell_type": "markdown",
   "id": "6fb05d93",
   "metadata": {},
   "source": [
    "오목교 양천구청 등촌 신정 신목동 신정네거리 목동 염창 "
   ]
  },
  {
   "cell_type": "code",
   "execution_count": 25,
   "id": "7db79a40",
   "metadata": {},
   "outputs": [
    {
     "data": {
      "text/html": [
       "<div>\n",
       "<style scoped>\n",
       "    .dataframe tbody tr th:only-of-type {\n",
       "        vertical-align: middle;\n",
       "    }\n",
       "\n",
       "    .dataframe tbody tr th {\n",
       "        vertical-align: top;\n",
       "    }\n",
       "\n",
       "    .dataframe thead th {\n",
       "        text-align: right;\n",
       "    }\n",
       "</style>\n",
       "<table border=\"1\" class=\"dataframe\">\n",
       "  <thead>\n",
       "    <tr style=\"text-align: right;\">\n",
       "      <th></th>\n",
       "      <th>사용월</th>\n",
       "      <th>지하철역</th>\n",
       "      <th>무임승차인원</th>\n",
       "      <th>무임하차인원</th>\n",
       "    </tr>\n",
       "  </thead>\n",
       "  <tbody>\n",
       "    <tr>\n",
       "      <th>2447</th>\n",
       "      <td>202112</td>\n",
       "      <td>양천구청</td>\n",
       "      <td>39410</td>\n",
       "      <td>40048</td>\n",
       "    </tr>\n",
       "    <tr>\n",
       "      <th>2466</th>\n",
       "      <td>202112</td>\n",
       "      <td>신정네거리</td>\n",
       "      <td>59590</td>\n",
       "      <td>60611</td>\n",
       "    </tr>\n",
       "    <tr>\n",
       "      <th>2593</th>\n",
       "      <td>202112</td>\n",
       "      <td>목동</td>\n",
       "      <td>70937</td>\n",
       "      <td>71907</td>\n",
       "    </tr>\n",
       "    <tr>\n",
       "      <th>2729</th>\n",
       "      <td>202112</td>\n",
       "      <td>염창</td>\n",
       "      <td>60618</td>\n",
       "      <td>59680</td>\n",
       "    </tr>\n",
       "    <tr>\n",
       "      <th>2733</th>\n",
       "      <td>202112</td>\n",
       "      <td>신목동</td>\n",
       "      <td>17958</td>\n",
       "      <td>16794</td>\n",
       "    </tr>\n",
       "  </tbody>\n",
       "</table>\n",
       "</div>"
      ],
      "text/plain": [
       "         사용월   지하철역  무임승차인원  무임하차인원\n",
       "2447  202112   양천구청   39410   40048\n",
       "2466  202112  신정네거리   59590   60611\n",
       "2593  202112     목동   70937   71907\n",
       "2729  202112     염창   60618   59680\n",
       "2733  202112    신목동   17958   16794"
      ]
     },
     "execution_count": 25,
     "metadata": {},
     "output_type": "execute_result"
    }
   ],
   "source": [
    "free_ride2 = free_ride1[(free_ride1['지하철역'] == '오목교')|(free_ride1['지하철역'] =='양천구청')|(free_ride1['지하철역'] =='등촌')|(free_ride1['지하철역'] =='신정')|(free_ride1['지하철역'] =='신목동')|(free_ride1['지하철역'] =='신정네거리')|(free_ride1['지하철역'] =='목동')|(free_ride1['지하철역'] =='염창')]\n",
    "yang_free_ride_2021 = free_ride2[(free_ride2['사용월'] == 202101)|(free_ride2['사용월'] == 202102)|(free_ride2['사용월'] == 202103)|(free_ride2['사용월'] == 202104)|(free_ride2['사용월'] == 202105)|(free_ride2['사용월'] == 202106)|(free_ride2['사용월'] == 202107)|(free_ride2['사용월'] == 202108)|(free_ride2['사용월'] == 202109)|(free_ride2['사용월'] == 202110)|(free_ride2['사용월'] == 202111)|(free_ride2['사용월'] == 202112)]\n",
    "yang_free_ride_2021.head()"
   ]
  },
  {
   "cell_type": "code",
   "execution_count": 26,
   "id": "7fa96431",
   "metadata": {},
   "outputs": [
    {
     "name": "stdout",
     "output_type": "stream",
     "text": [
      "50821\n",
      "51066\n"
     ]
    }
   ],
   "source": [
    "free_ride_yang_2021 = yang_free_ride_2021['무임승차인원'].mean()\n",
    "print(round(free_ride_yang_2021))\n",
    "free_ride_yang_2021 = yang_free_ride_2021['무임하차인원'].mean()\n",
    "print(round(free_ride_yang_2021))"
   ]
  },
  {
   "cell_type": "markdown",
   "id": "490945bb",
   "metadata": {},
   "source": [
    "## 영등포구"
   ]
  },
  {
   "cell_type": "markdown",
   "id": "38a89e46",
   "metadata": {},
   "source": [
    "샛강 영등포 선유도 당산 국회의사당 여의도 양평 여의나루 대방 신길 영등포구청 \n",
    "문래 보라매 영등포시장 신풍 대림 서울지방병무청 "
   ]
  },
  {
   "cell_type": "code",
   "execution_count": 27,
   "id": "d8bd822e",
   "metadata": {},
   "outputs": [
    {
     "data": {
      "text/html": [
       "<div>\n",
       "<style scoped>\n",
       "    .dataframe tbody tr th:only-of-type {\n",
       "        vertical-align: middle;\n",
       "    }\n",
       "\n",
       "    .dataframe tbody tr th {\n",
       "        vertical-align: top;\n",
       "    }\n",
       "\n",
       "    .dataframe thead th {\n",
       "        text-align: right;\n",
       "    }\n",
       "</style>\n",
       "<table border=\"1\" class=\"dataframe\">\n",
       "  <thead>\n",
       "    <tr style=\"text-align: right;\">\n",
       "      <th></th>\n",
       "      <th>사용월</th>\n",
       "      <th>지하철역</th>\n",
       "      <th>무임승차인원</th>\n",
       "      <th>무임하차인원</th>\n",
       "    </tr>\n",
       "  </thead>\n",
       "  <tbody>\n",
       "    <tr>\n",
       "      <th>2446</th>\n",
       "      <td>202112</td>\n",
       "      <td>영등포구청</td>\n",
       "      <td>91349</td>\n",
       "      <td>89727</td>\n",
       "    </tr>\n",
       "    <tr>\n",
       "      <th>2449</th>\n",
       "      <td>202112</td>\n",
       "      <td>당산</td>\n",
       "      <td>50543</td>\n",
       "      <td>55349</td>\n",
       "    </tr>\n",
       "    <tr>\n",
       "      <th>2468</th>\n",
       "      <td>202112</td>\n",
       "      <td>문래</td>\n",
       "      <td>67482</td>\n",
       "      <td>66648</td>\n",
       "    </tr>\n",
       "    <tr>\n",
       "      <th>2555</th>\n",
       "      <td>202112</td>\n",
       "      <td>신길</td>\n",
       "      <td>9786</td>\n",
       "      <td>10243</td>\n",
       "    </tr>\n",
       "    <tr>\n",
       "      <th>2586</th>\n",
       "      <td>202112</td>\n",
       "      <td>영등포구청</td>\n",
       "      <td>17148</td>\n",
       "      <td>17158</td>\n",
       "    </tr>\n",
       "  </tbody>\n",
       "</table>\n",
       "</div>"
      ],
      "text/plain": [
       "         사용월   지하철역  무임승차인원  무임하차인원\n",
       "2446  202112  영등포구청   91349   89727\n",
       "2449  202112     당산   50543   55349\n",
       "2468  202112     문래   67482   66648\n",
       "2555  202112     신길    9786   10243\n",
       "2586  202112  영등포구청   17148   17158"
      ]
     },
     "execution_count": 27,
     "metadata": {},
     "output_type": "execute_result"
    }
   ],
   "source": [
    "free_ride2 = free_ride1[(free_ride1['지하철역'] == '샛강')|(free_ride1['지하철역'] =='영등포')|(free_ride1['지하철역'] =='선유도')|(free_ride1['지하철역'] =='당산')|(free_ride1['지하철역'] =='국회의사당')|(free_ride1['지하철역'] =='여의도')|(free_ride1['지하철역'] =='양평')|(free_ride1['지하철역'] =='여의나루')|(free_ride1['지하철역'] =='대방')|(free_ride1['지하철역'] =='신길')|(free_ride1['지하철역'] =='영등포구청')|(free_ride1['지하철역'] =='문래')|(free_ride1['지하철역'] =='보라매')|(free_ride1['지하철역'] =='영등포시장')|(free_ride1['지하철역'] =='신풍')|(free_ride1['지하철역'] =='대림')|(free_ride1['지하철역'] =='서울지방병무청')]\n",
    "young_free_ride_2021 = free_ride2[(free_ride2['사용월'] == 202101)|(free_ride2['사용월'] == 202102)|(free_ride2['사용월'] == 202103)|(free_ride2['사용월'] == 202104)|(free_ride2['사용월'] == 202105)|(free_ride2['사용월'] == 202106)|(free_ride2['사용월'] == 202107)|(free_ride2['사용월'] == 202108)|(free_ride2['사용월'] == 202109)|(free_ride2['사용월'] == 202110)|(free_ride2['사용월'] == 202111)|(free_ride2['사용월'] == 202112)]\n",
    "young_free_ride_2021.head()"
   ]
  },
  {
   "cell_type": "code",
   "execution_count": 28,
   "id": "7e67f784",
   "metadata": {},
   "outputs": [
    {
     "name": "stdout",
     "output_type": "stream",
     "text": [
      "46423\n",
      "45571\n"
     ]
    }
   ],
   "source": [
    "free_ride_young_2021 = young_free_ride_2021['무임승차인원'].mean()\n",
    "print(round(free_ride_young_2021))\n",
    "free_ride_young_2021 = young_free_ride_2021['무임하차인원'].mean()\n",
    "print(round(free_ride_young_2021))"
   ]
  },
  {
   "cell_type": "markdown",
   "id": "a5e87365",
   "metadata": {},
   "source": [
    "## 금천구"
   ]
  },
  {
   "cell_type": "markdown",
   "id": "126fa2f9",
   "metadata": {},
   "source": [
    "가산디지털단지 독산 금청구청 금천구청 "
   ]
  },
  {
   "cell_type": "code",
   "execution_count": 29,
   "id": "f1a74a7e",
   "metadata": {},
   "outputs": [
    {
     "data": {
      "text/html": [
       "<div>\n",
       "<style scoped>\n",
       "    .dataframe tbody tr th:only-of-type {\n",
       "        vertical-align: middle;\n",
       "    }\n",
       "\n",
       "    .dataframe tbody tr th {\n",
       "        vertical-align: top;\n",
       "    }\n",
       "\n",
       "    .dataframe thead th {\n",
       "        text-align: right;\n",
       "    }\n",
       "</style>\n",
       "<table border=\"1\" class=\"dataframe\">\n",
       "  <thead>\n",
       "    <tr style=\"text-align: right;\">\n",
       "      <th></th>\n",
       "      <th>사용월</th>\n",
       "      <th>지하철역</th>\n",
       "      <th>무임승차인원</th>\n",
       "      <th>무임하차인원</th>\n",
       "    </tr>\n",
       "  </thead>\n",
       "  <tbody>\n",
       "    <tr>\n",
       "      <th>2665</th>\n",
       "      <td>202112</td>\n",
       "      <td>가산디지털단지</td>\n",
       "      <td>80985</td>\n",
       "      <td>76341</td>\n",
       "    </tr>\n",
       "    <tr>\n",
       "      <th>2788</th>\n",
       "      <td>202112</td>\n",
       "      <td>가산디지털단지</td>\n",
       "      <td>30578</td>\n",
       "      <td>34454</td>\n",
       "    </tr>\n",
       "    <tr>\n",
       "      <th>2794</th>\n",
       "      <td>202112</td>\n",
       "      <td>독산</td>\n",
       "      <td>57134</td>\n",
       "      <td>58299</td>\n",
       "    </tr>\n",
       "    <tr>\n",
       "      <th>2804</th>\n",
       "      <td>202112</td>\n",
       "      <td>금천구청</td>\n",
       "      <td>66450</td>\n",
       "      <td>68043</td>\n",
       "    </tr>\n",
       "    <tr>\n",
       "      <th>3266</th>\n",
       "      <td>202111</td>\n",
       "      <td>가산디지털단지</td>\n",
       "      <td>84446</td>\n",
       "      <td>79407</td>\n",
       "    </tr>\n",
       "  </tbody>\n",
       "</table>\n",
       "</div>"
      ],
      "text/plain": [
       "         사용월     지하철역  무임승차인원  무임하차인원\n",
       "2665  202112  가산디지털단지   80985   76341\n",
       "2788  202112  가산디지털단지   30578   34454\n",
       "2794  202112       독산   57134   58299\n",
       "2804  202112     금천구청   66450   68043\n",
       "3266  202111  가산디지털단지   84446   79407"
      ]
     },
     "execution_count": 29,
     "metadata": {},
     "output_type": "execute_result"
    }
   ],
   "source": [
    "free_ride2 = free_ride1[(free_ride1['지하철역'] == '가산디지털단지')|(free_ride1['지하철역'] =='독산')|(free_ride1['지하철역'] =='금천구청')]\n",
    "kum_free_ride_2021 = free_ride2[(free_ride2['사용월'] == 202101)|(free_ride2['사용월'] == 202102)|(free_ride2['사용월'] == 202103)|(free_ride2['사용월'] == 202104)|(free_ride2['사용월'] == 202105)|(free_ride2['사용월'] == 202106)|(free_ride2['사용월'] == 202107)|(free_ride2['사용월'] == 202108)|(free_ride2['사용월'] == 202109)|(free_ride2['사용월'] == 202110)|(free_ride2['사용월'] == 202111)|(free_ride2['사용월'] == 202112)]\n",
    "kum_free_ride_2021.head()"
   ]
  },
  {
   "cell_type": "code",
   "execution_count": 30,
   "id": "e727e7e4",
   "metadata": {},
   "outputs": [
    {
     "name": "stdout",
     "output_type": "stream",
     "text": [
      "55722\n",
      "45571\n"
     ]
    }
   ],
   "source": [
    "free_ride_kum_2021 = kum_free_ride_2021['무임승차인원'].mean()\n",
    "print(round(free_ride_kum_2021))\n",
    "free_ride_kum_2021 = young_free_ride_2021['무임하차인원'].mean()\n",
    "print(round(free_ride_kum_2021))"
   ]
  },
  {
   "cell_type": "markdown",
   "id": "63a00a96",
   "metadata": {},
   "source": [
    "## 동작구"
   ]
  },
  {
   "cell_type": "markdown",
   "id": "fc88584d",
   "metadata": {},
   "source": [
    "노량진 사당 이수 숭실대입구 흑석 노들 신대방삼거리 총신대입구(이수) 장승배기\n",
    "동작 상도 남성 보라매공원 보라매병우너 신대방 "
   ]
  },
  {
   "cell_type": "code",
   "execution_count": 31,
   "id": "612aea78",
   "metadata": {},
   "outputs": [
    {
     "data": {
      "text/html": [
       "<div>\n",
       "<style scoped>\n",
       "    .dataframe tbody tr th:only-of-type {\n",
       "        vertical-align: middle;\n",
       "    }\n",
       "\n",
       "    .dataframe tbody tr th {\n",
       "        vertical-align: top;\n",
       "    }\n",
       "\n",
       "    .dataframe thead th {\n",
       "        text-align: right;\n",
       "    }\n",
       "</style>\n",
       "<table border=\"1\" class=\"dataframe\">\n",
       "  <thead>\n",
       "    <tr style=\"text-align: right;\">\n",
       "      <th></th>\n",
       "      <th>사용월</th>\n",
       "      <th>지하철역</th>\n",
       "      <th>무임승차인원</th>\n",
       "      <th>무임하차인원</th>\n",
       "    </tr>\n",
       "  </thead>\n",
       "  <tbody>\n",
       "    <tr>\n",
       "      <th>2480</th>\n",
       "      <td>202112</td>\n",
       "      <td>신대방</td>\n",
       "      <td>107709</td>\n",
       "      <td>109601</td>\n",
       "    </tr>\n",
       "    <tr>\n",
       "      <th>2492</th>\n",
       "      <td>202112</td>\n",
       "      <td>사당</td>\n",
       "      <td>151989</td>\n",
       "      <td>146637</td>\n",
       "    </tr>\n",
       "    <tr>\n",
       "      <th>2538</th>\n",
       "      <td>202112</td>\n",
       "      <td>총신대입구(이수)</td>\n",
       "      <td>123924</td>\n",
       "      <td>130922</td>\n",
       "    </tr>\n",
       "    <tr>\n",
       "      <th>2539</th>\n",
       "      <td>202112</td>\n",
       "      <td>사당</td>\n",
       "      <td>72618</td>\n",
       "      <td>71871</td>\n",
       "    </tr>\n",
       "    <tr>\n",
       "      <th>2653</th>\n",
       "      <td>202112</td>\n",
       "      <td>장승배기</td>\n",
       "      <td>57612</td>\n",
       "      <td>58061</td>\n",
       "    </tr>\n",
       "  </tbody>\n",
       "</table>\n",
       "</div>"
      ],
      "text/plain": [
       "         사용월       지하철역  무임승차인원  무임하차인원\n",
       "2480  202112        신대방  107709  109601\n",
       "2492  202112         사당  151989  146637\n",
       "2538  202112  총신대입구(이수)  123924  130922\n",
       "2539  202112         사당   72618   71871\n",
       "2653  202112       장승배기   57612   58061"
      ]
     },
     "execution_count": 31,
     "metadata": {},
     "output_type": "execute_result"
    }
   ],
   "source": [
    "free_ride2 = free_ride1[(free_ride1['지하철역'] == '노량진')|(free_ride1['지하철역'] =='사당')|(free_ride1['지하철역'] =='이수')|(free_ride1['지하철역'] =='숭실대입구')|(free_ride1['지하철역'] =='흑석')|(free_ride1['지하철역'] =='노들')|(free_ride1['지하철역'] =='신대방삼거리')|(free_ride1['지하철역'] =='총신대입구(이수)')|(free_ride1['지하철역'] =='장승배기')|(free_ride1['지하철역'] =='동작')|(free_ride1['지하철역'] =='상도')|(free_ride1['지하철역'] =='남성')|(free_ride1['지하철역'] =='보라매공원')|(free_ride1['지하철역'] =='보라매병원')|(free_ride1['지하철역'] =='신대방')]\n",
    "jack_free_ride_2021 = free_ride2[(free_ride2['사용월'] == 202101)|(free_ride2['사용월'] == 202102)|(free_ride2['사용월'] == 202103)|(free_ride2['사용월'] == 202104)|(free_ride2['사용월'] == 202105)|(free_ride2['사용월'] == 202106)|(free_ride2['사용월'] == 202107)|(free_ride2['사용월'] == 202108)|(free_ride2['사용월'] == 202109)|(free_ride2['사용월'] == 202110)|(free_ride2['사용월'] == 202111)|(free_ride2['사용월'] == 202112)]\n",
    "jack_free_ride_2021.head()"
   ]
  },
  {
   "cell_type": "code",
   "execution_count": 32,
   "id": "20577f85",
   "metadata": {},
   "outputs": [
    {
     "name": "stdout",
     "output_type": "stream",
     "text": [
      "71455\n",
      "71142\n"
     ]
    }
   ],
   "source": [
    "free_ride_jack_2021 = jack_free_ride_2021['무임승차인원'].mean()\n",
    "print(round(free_ride_jack_2021))\n",
    "free_ride_jack_2021 = jack_free_ride_2021['무임하차인원'].mean()\n",
    "print(round(free_ride_jack_2021))"
   ]
  },
  {
   "cell_type": "markdown",
   "id": "75f6188b",
   "metadata": {},
   "source": [
    "## 관악구"
   ]
  },
  {
   "cell_type": "markdown",
   "id": "e92dc1fb",
   "metadata": {},
   "source": [
    "신림 서울대입구 낙성대 신대방 봉천 관악산 서원 서울대벤처타운 당곡 사당 남태령"
   ]
  },
  {
   "cell_type": "code",
   "execution_count": 33,
   "id": "fa6c6a16",
   "metadata": {},
   "outputs": [
    {
     "data": {
      "text/html": [
       "<div>\n",
       "<style scoped>\n",
       "    .dataframe tbody tr th:only-of-type {\n",
       "        vertical-align: middle;\n",
       "    }\n",
       "\n",
       "    .dataframe tbody tr th {\n",
       "        vertical-align: top;\n",
       "    }\n",
       "\n",
       "    .dataframe thead th {\n",
       "        text-align: right;\n",
       "    }\n",
       "</style>\n",
       "<table border=\"1\" class=\"dataframe\">\n",
       "  <thead>\n",
       "    <tr style=\"text-align: right;\">\n",
       "      <th></th>\n",
       "      <th>사용월</th>\n",
       "      <th>지하철역</th>\n",
       "      <th>무임승차인원</th>\n",
       "      <th>무임하차인원</th>\n",
       "    </tr>\n",
       "  </thead>\n",
       "  <tbody>\n",
       "    <tr>\n",
       "      <th>2479</th>\n",
       "      <td>202112</td>\n",
       "      <td>신림</td>\n",
       "      <td>193877</td>\n",
       "      <td>197464</td>\n",
       "    </tr>\n",
       "    <tr>\n",
       "      <th>2480</th>\n",
       "      <td>202112</td>\n",
       "      <td>신대방</td>\n",
       "      <td>107709</td>\n",
       "      <td>109601</td>\n",
       "    </tr>\n",
       "    <tr>\n",
       "      <th>2482</th>\n",
       "      <td>202112</td>\n",
       "      <td>봉천</td>\n",
       "      <td>121295</td>\n",
       "      <td>121944</td>\n",
       "    </tr>\n",
       "    <tr>\n",
       "      <th>2492</th>\n",
       "      <td>202112</td>\n",
       "      <td>사당</td>\n",
       "      <td>151989</td>\n",
       "      <td>146637</td>\n",
       "    </tr>\n",
       "    <tr>\n",
       "      <th>2529</th>\n",
       "      <td>202112</td>\n",
       "      <td>남태령</td>\n",
       "      <td>7599</td>\n",
       "      <td>6938</td>\n",
       "    </tr>\n",
       "  </tbody>\n",
       "</table>\n",
       "</div>"
      ],
      "text/plain": [
       "         사용월 지하철역  무임승차인원  무임하차인원\n",
       "2479  202112   신림  193877  197464\n",
       "2480  202112  신대방  107709  109601\n",
       "2482  202112   봉천  121295  121944\n",
       "2492  202112   사당  151989  146637\n",
       "2529  202112  남태령    7599    6938"
      ]
     },
     "execution_count": 33,
     "metadata": {},
     "output_type": "execute_result"
    }
   ],
   "source": [
    "free_ride2 = free_ride1[(free_ride1['지하철역'] == '신림')|(free_ride1['지하철역'] =='서울대입구')|(free_ride1['지하철역'] =='낙성대')|(free_ride1['지하철역'] =='신대방')|(free_ride1['지하철역'] =='봉천')|(free_ride1['지하철역'] =='관악산')|(free_ride1['지하철역'] =='서원')|(free_ride1['지하철역'] =='서울대벤처타운')|(free_ride1['지하철역'] =='당곡')|(free_ride1['지하철역'] =='사당')|(free_ride1['지하철역'] =='남태령')]\n",
    "kuan_free_ride_2021 = free_ride2[(free_ride2['사용월'] == 202101)|(free_ride2['사용월'] == 202102)|(free_ride2['사용월'] == 202103)|(free_ride2['사용월'] == 202104)|(free_ride2['사용월'] == 202105)|(free_ride2['사용월'] == 202106)|(free_ride2['사용월'] == 202107)|(free_ride2['사용월'] == 202108)|(free_ride2['사용월'] == 202109)|(free_ride2['사용월'] == 202110)|(free_ride2['사용월'] == 202111)|(free_ride2['사용월'] == 202112)]\n",
    "kuan_free_ride_2021.head()"
   ]
  },
  {
   "cell_type": "code",
   "execution_count": 34,
   "id": "31070d6a",
   "metadata": {},
   "outputs": [
    {
     "name": "stdout",
     "output_type": "stream",
     "text": [
      "104140\n",
      "103765\n"
     ]
    }
   ],
   "source": [
    "free_ride_kuan_2021 = kuan_free_ride_2021['무임승차인원'].mean()\n",
    "print(round(free_ride_kuan_2021))\n",
    "free_ride_kuan_2021 = kuan_free_ride_2021['무임하차인원'].mean()\n",
    "print(round(free_ride_kuan_2021))"
   ]
  },
  {
   "cell_type": "markdown",
   "id": "5835fc2e",
   "metadata": {},
   "source": [
    "## 서초구"
   ]
  },
  {
   "cell_type": "markdown",
   "id": "1972566c",
   "metadata": {},
   "source": [
    "사평 양재 고속터미널 교대 남부터미널 양재시민의숲 잠원 신반포 청계산입구 내방 \n",
    "방배 서초 구반포 반포 남태령 신논현 "
   ]
  },
  {
   "cell_type": "code",
   "execution_count": 35,
   "id": "ec1f50f4",
   "metadata": {},
   "outputs": [
    {
     "data": {
      "text/html": [
       "<div>\n",
       "<style scoped>\n",
       "    .dataframe tbody tr th:only-of-type {\n",
       "        vertical-align: middle;\n",
       "    }\n",
       "\n",
       "    .dataframe tbody tr th {\n",
       "        vertical-align: top;\n",
       "    }\n",
       "\n",
       "    .dataframe thead th {\n",
       "        text-align: right;\n",
       "    }\n",
       "</style>\n",
       "<table border=\"1\" class=\"dataframe\">\n",
       "  <thead>\n",
       "    <tr style=\"text-align: right;\">\n",
       "      <th></th>\n",
       "      <th>사용월</th>\n",
       "      <th>지하철역</th>\n",
       "      <th>무임승차인원</th>\n",
       "      <th>무임하차인원</th>\n",
       "    </tr>\n",
       "  </thead>\n",
       "  <tbody>\n",
       "    <tr>\n",
       "      <th>2454</th>\n",
       "      <td>202112</td>\n",
       "      <td>서초</td>\n",
       "      <td>64735</td>\n",
       "      <td>64091</td>\n",
       "    </tr>\n",
       "    <tr>\n",
       "      <th>2455</th>\n",
       "      <td>202112</td>\n",
       "      <td>방배</td>\n",
       "      <td>63384</td>\n",
       "      <td>62418</td>\n",
       "    </tr>\n",
       "    <tr>\n",
       "      <th>2503</th>\n",
       "      <td>202112</td>\n",
       "      <td>잠원</td>\n",
       "      <td>26594</td>\n",
       "      <td>25895</td>\n",
       "    </tr>\n",
       "    <tr>\n",
       "      <th>2515</th>\n",
       "      <td>202112</td>\n",
       "      <td>고속터미널</td>\n",
       "      <td>144347</td>\n",
       "      <td>138220</td>\n",
       "    </tr>\n",
       "    <tr>\n",
       "      <th>2529</th>\n",
       "      <td>202112</td>\n",
       "      <td>남태령</td>\n",
       "      <td>7599</td>\n",
       "      <td>6938</td>\n",
       "    </tr>\n",
       "  </tbody>\n",
       "</table>\n",
       "</div>"
      ],
      "text/plain": [
       "         사용월   지하철역  무임승차인원  무임하차인원\n",
       "2454  202112     서초   64735   64091\n",
       "2455  202112     방배   63384   62418\n",
       "2503  202112     잠원   26594   25895\n",
       "2515  202112  고속터미널  144347  138220\n",
       "2529  202112    남태령    7599    6938"
      ]
     },
     "execution_count": 35,
     "metadata": {},
     "output_type": "execute_result"
    }
   ],
   "source": [
    "free_ride2 = free_ride1[(free_ride1['지하철역'] == '사평')|(free_ride1['지하철역'] =='양재')|(free_ride1['지하철역'] =='고속터미널')|(free_ride1['지하철역'] =='교대')|(free_ride1['지하철역'] =='남부터미널')|(free_ride1['지하철역'] =='양재시민의숲')|(free_ride1['지하철역'] =='잠원')|(free_ride1['지하철역'] =='신반포')|(free_ride1['지하철역'] =='청계산입구')|(free_ride1['지하철역'] =='내방')|(free_ride1['지하철역'] =='방배')|(free_ride1['지하철역'] =='서초')|(free_ride1['지하철역'] =='구반포')|(free_ride1['지하철역'] =='반포')|(free_ride1['지하철역'] =='남태령')|(free_ride1['지하철역'] =='신논현')]\n",
    "seocho_free_ride_2021 = free_ride2[(free_ride2['사용월'] == 202101)|(free_ride2['사용월'] == 202102)|(free_ride2['사용월'] == 202103)|(free_ride2['사용월'] == 202104)|(free_ride2['사용월'] == 202105)|(free_ride2['사용월'] == 202106)|(free_ride2['사용월'] == 202107)|(free_ride2['사용월'] == 202108)|(free_ride2['사용월'] == 202109)|(free_ride2['사용월'] == 202110)|(free_ride2['사용월'] == 202111)|(free_ride2['사용월'] == 202112)]\n",
    "seocho_free_ride_2021.head()"
   ]
  },
  {
   "cell_type": "code",
   "execution_count": 36,
   "id": "2aad06fb",
   "metadata": {},
   "outputs": [
    {
     "name": "stdout",
     "output_type": "stream",
     "text": [
      "43651\n",
      "42432\n"
     ]
    }
   ],
   "source": [
    "free_ride_seocho_2021 = seocho_free_ride_2021['무임승차인원'].mean()\n",
    "print(round(free_ride_seocho_2021))\n",
    "free_ride_seocho_2021 = seocho_free_ride_2021['무임하차인원'].mean()\n",
    "print(round(free_ride_seocho_2021))"
   ]
  },
  {
   "cell_type": "markdown",
   "id": "df16b167",
   "metadata": {},
   "source": [
    "## 송파구"
   ]
  },
  {
   "cell_type": "markdown",
   "id": "79a0795f",
   "metadata": {},
   "source": [
    "잠실 종합운동장 몽촌토성 잠실새내 올림픽공원 가락시장 석촌 오금 문정 장지 복정\n",
    "방이 거여 마천 개롱 경찰병원 송파 강동구청 삼전 송파나루 석촌고분 한성백제 둔촌오륜"
   ]
  },
  {
   "cell_type": "code",
   "execution_count": 37,
   "id": "a7cb2259",
   "metadata": {},
   "outputs": [
    {
     "data": {
      "text/html": [
       "<div>\n",
       "<style scoped>\n",
       "    .dataframe tbody tr th:only-of-type {\n",
       "        vertical-align: middle;\n",
       "    }\n",
       "\n",
       "    .dataframe tbody tr th {\n",
       "        vertical-align: top;\n",
       "    }\n",
       "\n",
       "    .dataframe thead th {\n",
       "        text-align: right;\n",
       "    }\n",
       "</style>\n",
       "<table border=\"1\" class=\"dataframe\">\n",
       "  <thead>\n",
       "    <tr style=\"text-align: right;\">\n",
       "      <th></th>\n",
       "      <th>사용월</th>\n",
       "      <th>지하철역</th>\n",
       "      <th>무임승차인원</th>\n",
       "      <th>무임하차인원</th>\n",
       "    </tr>\n",
       "  </thead>\n",
       "  <tbody>\n",
       "    <tr>\n",
       "      <th>2452</th>\n",
       "      <td>202112</td>\n",
       "      <td>종합운동장</td>\n",
       "      <td>33220</td>\n",
       "      <td>34300</td>\n",
       "    </tr>\n",
       "    <tr>\n",
       "      <th>2453</th>\n",
       "      <td>202112</td>\n",
       "      <td>잠실새내</td>\n",
       "      <td>89134</td>\n",
       "      <td>89009</td>\n",
       "    </tr>\n",
       "    <tr>\n",
       "      <th>2497</th>\n",
       "      <td>202112</td>\n",
       "      <td>오금</td>\n",
       "      <td>24443</td>\n",
       "      <td>23180</td>\n",
       "    </tr>\n",
       "    <tr>\n",
       "      <th>2499</th>\n",
       "      <td>202112</td>\n",
       "      <td>가락시장</td>\n",
       "      <td>61759</td>\n",
       "      <td>60417</td>\n",
       "    </tr>\n",
       "    <tr>\n",
       "      <th>2502</th>\n",
       "      <td>202112</td>\n",
       "      <td>경찰병원</td>\n",
       "      <td>35698</td>\n",
       "      <td>36579</td>\n",
       "    </tr>\n",
       "  </tbody>\n",
       "</table>\n",
       "</div>"
      ],
      "text/plain": [
       "         사용월   지하철역  무임승차인원  무임하차인원\n",
       "2452  202112  종합운동장   33220   34300\n",
       "2453  202112   잠실새내   89134   89009\n",
       "2497  202112     오금   24443   23180\n",
       "2499  202112   가락시장   61759   60417\n",
       "2502  202112   경찰병원   35698   36579"
      ]
     },
     "execution_count": 37,
     "metadata": {},
     "output_type": "execute_result"
    }
   ],
   "source": [
    "free_ride2 = free_ride1[(free_ride1['지하철역'] == '잠실')|(free_ride1['지하철역'] =='종합운동장')|(free_ride1['지하철역'] =='몽촌토성')|(free_ride1['지하철역'] =='잠실새내')|(free_ride1['지하철역'] =='올림픽공원')|(free_ride1['지하철역'] =='가락시장')|(free_ride1['지하철역'] =='석촌')|(free_ride1['지하철역'] =='오금')|(free_ride1['지하철역'] =='문정')|(free_ride1['지하철역'] =='장지')|(free_ride1['지하철역'] =='복정')|(free_ride1['지하철역'] =='방이')|(free_ride1['지하철역'] =='거여')|(free_ride1['지하철역'] =='마천')|(free_ride1['지하철역'] =='개롱')|(free_ride1['지하철역'] =='경찰병원')|(free_ride1['지하철역'] =='송파')|(free_ride1['지하철역'] =='강동구청')|(free_ride1['지하철역'] =='삼전')|(free_ride1['지하철역'] =='송파나루')|(free_ride1['지하철역'] =='석촌고분')|(free_ride1['지하철역'] =='한성백제')|(free_ride1['지하철역'] =='둔촌오륜')]\n",
    "song_free_ride_2021 = free_ride2[(free_ride2['사용월'] == 202101)|(free_ride2['사용월'] == 202102)|(free_ride2['사용월'] == 202103)|(free_ride2['사용월'] == 202104)|(free_ride2['사용월'] == 202105)|(free_ride2['사용월'] == 202106)|(free_ride2['사용월'] == 202107)|(free_ride2['사용월'] == 202108)|(free_ride2['사용월'] == 202109)|(free_ride2['사용월'] == 202110)|(free_ride2['사용월'] == 202111)|(free_ride2['사용월'] == 202112)]\n",
    "song_free_ride_2021.head()"
   ]
  },
  {
   "cell_type": "code",
   "execution_count": 38,
   "id": "635ee8cd",
   "metadata": {},
   "outputs": [
    {
     "name": "stdout",
     "output_type": "stream",
     "text": [
      "35363\n",
      "35061\n"
     ]
    }
   ],
   "source": [
    "free_ride_song_2021 = song_free_ride_2021['무임승차인원'].mean()\n",
    "print(round(free_ride_song_2021))\n",
    "free_ride_song_2021 = song_free_ride_2021['무임하차인원'].mean()\n",
    "print(round(free_ride_song_2021))"
   ]
  },
  {
   "cell_type": "markdown",
   "id": "161fb63a",
   "metadata": {},
   "source": [
    "## 강동구"
   ]
  },
  {
   "cell_type": "markdown",
   "id": "1dd70ca4",
   "metadata": {},
   "source": [
    "천호 상일동 둔촌동 굽은다리 강동 암사 고덕 명일 길동 중앙보훈병원 강일 "
   ]
  },
  {
   "cell_type": "code",
   "execution_count": 39,
   "id": "2b01be18",
   "metadata": {},
   "outputs": [
    {
     "data": {
      "text/html": [
       "<div>\n",
       "<style scoped>\n",
       "    .dataframe tbody tr th:only-of-type {\n",
       "        vertical-align: middle;\n",
       "    }\n",
       "\n",
       "    .dataframe tbody tr th {\n",
       "        vertical-align: top;\n",
       "    }\n",
       "\n",
       "    .dataframe thead th {\n",
       "        text-align: right;\n",
       "    }\n",
       "</style>\n",
       "<table border=\"1\" class=\"dataframe\">\n",
       "  <thead>\n",
       "    <tr style=\"text-align: right;\">\n",
       "      <th></th>\n",
       "      <th>사용월</th>\n",
       "      <th>지하철역</th>\n",
       "      <th>무임승차인원</th>\n",
       "      <th>무임하차인원</th>\n",
       "    </tr>\n",
       "  </thead>\n",
       "  <tbody>\n",
       "    <tr>\n",
       "      <th>2556</th>\n",
       "      <td>202112</td>\n",
       "      <td>강동</td>\n",
       "      <td>86710</td>\n",
       "      <td>84014</td>\n",
       "    </tr>\n",
       "    <tr>\n",
       "      <th>2558</th>\n",
       "      <td>202112</td>\n",
       "      <td>길동</td>\n",
       "      <td>62643</td>\n",
       "      <td>64721</td>\n",
       "    </tr>\n",
       "    <tr>\n",
       "      <th>2567</th>\n",
       "      <td>202112</td>\n",
       "      <td>명일</td>\n",
       "      <td>57576</td>\n",
       "      <td>60443</td>\n",
       "    </tr>\n",
       "    <tr>\n",
       "      <th>2583</th>\n",
       "      <td>202112</td>\n",
       "      <td>고덕</td>\n",
       "      <td>55581</td>\n",
       "      <td>55131</td>\n",
       "    </tr>\n",
       "    <tr>\n",
       "      <th>2604</th>\n",
       "      <td>202112</td>\n",
       "      <td>상일동</td>\n",
       "      <td>76397</td>\n",
       "      <td>73478</td>\n",
       "    </tr>\n",
       "  </tbody>\n",
       "</table>\n",
       "</div>"
      ],
      "text/plain": [
       "         사용월 지하철역  무임승차인원  무임하차인원\n",
       "2556  202112   강동   86710   84014\n",
       "2558  202112   길동   62643   64721\n",
       "2567  202112   명일   57576   60443\n",
       "2583  202112   고덕   55581   55131\n",
       "2604  202112  상일동   76397   73478"
      ]
     },
     "execution_count": 39,
     "metadata": {},
     "output_type": "execute_result"
    }
   ],
   "source": [
    "free_ride2 = free_ride1[(free_ride1['지하철역'] == '천호')|(free_ride1['지하철역'] =='상일동')|(free_ride1['지하철역'] =='둔촌동')|(free_ride1['지하철역'] =='굽은다리')|(free_ride1['지하철역'] =='강동')|(free_ride1['지하철역'] =='암사')|(free_ride1['지하철역'] =='고덕')|(free_ride1['지하철역'] =='명일')|(free_ride1['지하철역'] =='길동')|(free_ride1['지하철역'] =='중앙보훈병원')|(free_ride1['지하철역'] =='강일')]\n",
    "kangdong_free_ride_2021 = free_ride2[(free_ride2['사용월'] == 202101)|(free_ride2['사용월'] == 202102)|(free_ride2['사용월'] == 202103)|(free_ride2['사용월'] == 202104)|(free_ride2['사용월'] == 202105)|(free_ride2['사용월'] == 202106)|(free_ride2['사용월'] == 202107)|(free_ride2['사용월'] == 202108)|(free_ride2['사용월'] == 202109)|(free_ride2['사용월'] == 202110)|(free_ride2['사용월'] == 202111)|(free_ride2['사용월'] == 202112)]\n",
    "kangdong_free_ride_2021.head()"
   ]
  },
  {
   "cell_type": "code",
   "execution_count": 40,
   "id": "08c83003",
   "metadata": {},
   "outputs": [
    {
     "name": "stdout",
     "output_type": "stream",
     "text": [
      "60673\n",
      "60248\n"
     ]
    }
   ],
   "source": [
    "free_ride_kangdong_2021 = kangdong_free_ride_2021['무임승차인원'].mean()\n",
    "print(round(free_ride_kangdong_2021))\n",
    "free_ride_kangdong_2021 = kangdong_free_ride_2021['무임하차인원'].mean()\n",
    "print(round(free_ride_kangdong_2021))"
   ]
  },
  {
   "cell_type": "code",
   "execution_count": null,
   "id": "549b32e0",
   "metadata": {},
   "outputs": [],
   "source": []
  }
 ],
 "metadata": {
  "kernelspec": {
   "display_name": "Python 3 (ipykernel)",
   "language": "python",
   "name": "python3"
  },
  "language_info": {
   "codemirror_mode": {
    "name": "ipython",
    "version": 3
   },
   "file_extension": ".py",
   "mimetype": "text/x-python",
   "name": "python",
   "nbconvert_exporter": "python",
   "pygments_lexer": "ipython3",
   "version": "3.9.7"
  }
 },
 "nbformat": 4,
 "nbformat_minor": 5
}
